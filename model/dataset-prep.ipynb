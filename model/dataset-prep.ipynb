{
 "cells": [
  {
   "cell_type": "markdown",
   "metadata": {},
   "source": [
    "### Data subsets files creation"
   ]
  },
  {
   "cell_type": "code",
   "execution_count": 7,
   "metadata": {},
   "outputs": [],
   "source": [
    "##### Uncomment and run in case the dataset split has to be performed again\n",
    "\n",
    "from sklearn.model_selection import train_test_split\n",
    "import pandas as pd\n",
    "\n",
    "expressions = pd.read_csv('complete-expressions.csv')\n",
    "expressions = expressions[['input','target']]\n",
    "\n",
    "expressions_latex = expressions.loc[expressions['input'].str.contains('generar latex')]\n",
    "expressions_ner = expressions.loc[expressions['input'].str.contains('reconocer entidades nombradas')]\n",
    "expressions_trees = expressions.loc[expressions['input'].str.contains('generar lista')]"
   ]
  },
  {
   "cell_type": "code",
   "execution_count": 10,
   "metadata": {},
   "outputs": [],
   "source": [
    "#Latex only\n",
    "train_val_data, test_data = train_test_split(expressions_latex, test_size=0.1, shuffle=True)\n",
    "train_data, validation_data = train_test_split(train_val_data, test_size=0.11, shuffle=True)\n",
    "\n",
    "train_data.to_csv('data-splits/latex/train_split.csv', index=False)\n",
    "validation_data.to_csv('data-splits/latex/validation_split.csv', index=False)\n",
    "test_data.to_csv('data-splits/latex/test_split.csv', index=False)"
   ]
  },
  {
   "cell_type": "code",
   "execution_count": 12,
   "metadata": {},
   "outputs": [],
   "source": [
    "train_latex_df = pd.read_csv('data-splits/latex/train_split.csv')\n",
    "\n",
    "expressions_ner_striped = expressions_ner.sample(len(train_latex_df))\n",
    "expressions_trees_striped = expressions_trees.sample(len(train_latex_df))"
   ]
  },
  {
   "cell_type": "code",
   "execution_count": 13,
   "metadata": {},
   "outputs": [],
   "source": [
    "#Latex + NER\n",
    "latex_ner_df = pd.concat([expressions_ner_striped,expressions_latex]).sample(frac=1)\n",
    "latex_trees_df = pd.concat([expressions_trees_striped,expressions_latex]).sample(frac=1)\n",
    "latex_ner_latex_df = pd.concat([expressions_ner_striped,expressions_trees_striped,expressions_latex]).sample(frac=1)\n",
    "\n",
    "latex_ner_df.to_csv('data-splits/latex-ner/train_split.csv', index=False)\n",
    "latex_trees_df.to_csv('data-splits/latex-trees/train_split.csv', index=False)\n",
    "latex_ner_latex_df.to_csv('data-splits/complete/train_split.csv', index=False)"
   ]
  },
  {
   "cell_type": "code",
   "execution_count": 4,
   "metadata": {},
   "outputs": [],
   "source": [
    "##### Uncomment and run in case the dataset split for only trees dataset has to be performed again\n",
    "\n",
    "\"\"\" from sklearn.model_selection import train_test_split\n",
    "import pandas as pd\n",
    "\n",
    "expressions = pd.read_csv('complete-expressions.csv')\n",
    "expressions = expressions[['input','target']]\n",
    "\n",
    "expressions = expressions.loc[expressions['input'].str.contains('generar lista')]\n",
    "expressions = expressions[0:50]\n",
    "\n",
    "train_val_data, test_data = train_test_split(expressions, test_size=0.2, shuffle=True)\n",
    "train_data, validation_data = train_test_split(train_val_data, test_size=0.25, shuffle=True)\n",
    "\n",
    "train_data.to_csv('data-splits\\\\only-trees-small\\\\train_split.csv', index=False)\n",
    "validation_data.to_csv('data-splits\\\\only-trees-small\\\\validation_split.csv', index=False)\n",
    "test_data.to_csv('data-splits\\\\only-trees-small\\\\test_split.csv', index=False)  \"\"\""
   ]
  },
  {
   "cell_type": "markdown",
   "metadata": {},
   "source": [
    "### Huggingface DatasetDict preprocessing"
   ]
  },
  {
   "cell_type": "code",
   "execution_count": 16,
   "metadata": {},
   "outputs": [],
   "source": [
    "from expressions_dataset import ExpressionsDataset\n",
    "    \n",
    "expressions = ExpressionsDataset(dataset='latex-trees')"
   ]
  },
  {
   "cell_type": "code",
   "execution_count": 17,
   "metadata": {},
   "outputs": [],
   "source": [
    "from datasets import Dataset, DatasetDict\n",
    "\n",
    "train_dataset = Dataset.from_pandas(expressions.train_data, split='train')\n",
    "validation_dataset = Dataset.from_pandas(expressions.validation_data, split='validation')\n",
    "test_dataset = Dataset.from_pandas(expressions.test_data, split='test')\n",
    "\n",
    "dataset = DatasetDict({\n",
    "    'train': train_dataset,\n",
    "    'validation': validation_dataset,\n",
    "    'test': test_dataset\n",
    "})"
   ]
  },
  {
   "cell_type": "code",
   "execution_count": 18,
   "metadata": {},
   "outputs": [
    {
     "data": {
      "text/plain": [
       "DatasetDict({\n",
       "    train: Dataset({\n",
       "        features: ['input', 'target'],\n",
       "        num_rows: 2571\n",
       "    })\n",
       "    validation: Dataset({\n",
       "        features: ['input', 'target'],\n",
       "        num_rows: 142\n",
       "    })\n",
       "    test: Dataset({\n",
       "        features: ['input', 'target'],\n",
       "        num_rows: 143\n",
       "    })\n",
       "})"
      ]
     },
     "execution_count": 18,
     "metadata": {},
     "output_type": "execute_result"
    }
   ],
   "source": [
    "dataset"
   ]
  },
  {
   "cell_type": "code",
   "execution_count": 19,
   "metadata": {},
   "outputs": [
    {
     "name": "stderr",
     "output_type": "stream",
     "text": [
      "/home/franco/Desktop/TESIS/Code/ThesisModel/tesis-env/lib/python3.10/site-packages/transformers/tokenization_utils_base.py:1601: FutureWarning: `clean_up_tokenization_spaces` was not set. It will be set to `True` by default. This behavior will be depracted in transformers v4.45, and will be then set to `False` by default. For more details check this issue: https://github.com/huggingface/transformers/issues/31884\n",
      "  warnings.warn(\n"
     ]
    },
    {
     "data": {
      "application/vnd.jupyter.widget-view+json": {
       "model_id": "655f6df7095d4de482917a44c794a13c",
       "version_major": 2,
       "version_minor": 0
      },
      "text/plain": [
       "Map:   0%|          | 0/2571 [00:00<?, ? examples/s]"
      ]
     },
     "metadata": {},
     "output_type": "display_data"
    },
    {
     "data": {
      "application/vnd.jupyter.widget-view+json": {
       "model_id": "6b538eacb3714709be2635d2b47e7039",
       "version_major": 2,
       "version_minor": 0
      },
      "text/plain": [
       "Map:   0%|          | 0/142 [00:00<?, ? examples/s]"
      ]
     },
     "metadata": {},
     "output_type": "display_data"
    },
    {
     "data": {
      "application/vnd.jupyter.widget-view+json": {
       "model_id": "29674674995d4c168b07c49a7a4bab47",
       "version_major": 2,
       "version_minor": 0
      },
      "text/plain": [
       "Map:   0%|          | 0/143 [00:00<?, ? examples/s]"
      ]
     },
     "metadata": {},
     "output_type": "display_data"
    }
   ],
   "source": [
    "from transformers import T5Tokenizer\n",
    "\n",
    "tokenizer = T5Tokenizer.from_pretrained(\"vgaraujov/t5-base-spanish\")\n",
    "max_input_length = 128\n",
    "max_target_length = 128\n",
    "\n",
    "def preprocess_examples(examples):\n",
    "    descriptions = examples['input']\n",
    "    targets = examples['target']\n",
    "\n",
    "    # Encode the descriptions\n",
    "    model_inputs = tokenizer(descriptions, max_length=max_input_length, padding=\"max_length\", truncation=True, return_tensors='pt')\n",
    "    # Encode the targets: trees or annotations\n",
    "    labels = tokenizer(targets, max_length=max_input_length, padding=\"max_length\", truncation=True, return_tensors='pt').input_ids\n",
    "\n",
    "    labels_with_ignore_index = []\n",
    "    for labels_example in labels:\n",
    "      labels_example = [label if label != 0 else -100 for label in labels_example]\n",
    "      labels_with_ignore_index.append(labels_example)\n",
    "    \n",
    "    model_inputs[\"labels\"] = labels_with_ignore_index\n",
    "\n",
    "    return model_inputs\n",
    "\n",
    "dataset = dataset.map(preprocess_examples, batched=True)"
   ]
  },
  {
   "cell_type": "markdown",
   "metadata": {},
   "source": [
    "We save the preprocessed dataset to disk"
   ]
  },
  {
   "cell_type": "code",
   "execution_count": 20,
   "metadata": {},
   "outputs": [
    {
     "data": {
      "application/vnd.jupyter.widget-view+json": {
       "model_id": "1a4b9d4ad2984052aca23989d7d7694e",
       "version_major": 2,
       "version_minor": 0
      },
      "text/plain": [
       "Saving the dataset (0/1 shards):   0%|          | 0/2571 [00:00<?, ? examples/s]"
      ]
     },
     "metadata": {},
     "output_type": "display_data"
    },
    {
     "data": {
      "application/vnd.jupyter.widget-view+json": {
       "model_id": "21ed0cda292946388ce3bfdb21861b15",
       "version_major": 2,
       "version_minor": 0
      },
      "text/plain": [
       "Saving the dataset (0/1 shards):   0%|          | 0/142 [00:00<?, ? examples/s]"
      ]
     },
     "metadata": {},
     "output_type": "display_data"
    },
    {
     "data": {
      "application/vnd.jupyter.widget-view+json": {
       "model_id": "1e2fa3105ddf4d8195a830988171181c",
       "version_major": 2,
       "version_minor": 0
      },
      "text/plain": [
       "Saving the dataset (0/1 shards):   0%|          | 0/143 [00:00<?, ? examples/s]"
      ]
     },
     "metadata": {},
     "output_type": "display_data"
    }
   ],
   "source": [
    "dataset.save_to_disk('preprocessed-dataset-latex-trees')"
   ]
  },
  {
   "cell_type": "code",
   "execution_count": 2,
   "metadata": {},
   "outputs": [
    {
     "name": "stderr",
     "output_type": "stream",
     "text": [
      "You are using the default legacy behaviour of the <class 'transformers.models.t5.tokenization_t5.T5Tokenizer'>. This is expected, and simply means that the `legacy` (previous) behavior will be used so nothing changes for you. If you want to use the new behaviour, set `legacy=False`. This should only be set if you understand what it means, and thoroughly read the reason why this was added as explained in https://github.com/huggingface/transformers/pull/24565\n",
      "/home/franco/Desktop/TESIS/Code/ThesisModel/tesis-env/lib/python3.10/site-packages/transformers/tokenization_utils_base.py:1601: FutureWarning: `clean_up_tokenization_spaces` was not set. It will be set to `True` by default. This behavior will be depracted in transformers v4.45, and will be then set to `False` by default. For more details check this issue: https://github.com/huggingface/transformers/issues/31884\n",
      "  warnings.warn(\n"
     ]
    }
   ],
   "source": [
    "from transformers import T5Tokenizer\n",
    "tokenizer = T5Tokenizer.from_pretrained(\"vgaraujov/t5-base-spanish\")"
   ]
  },
  {
   "cell_type": "code",
   "execution_count": 3,
   "metadata": {},
   "outputs": [],
   "source": [
    "string = \"\\\\begin{cases} - VC - VC.x - VC.x^{2} - VC.x^{3} - VC.x^{4} - VC.x^{5} - VC.x^{6} - VC.x^{7} - VC.x^{8} \\\\end{cases}\"\n",
    "ids = tokenizer(string).input_ids"
   ]
  },
  {
   "cell_type": "code",
   "execution_count": 4,
   "metadata": {},
   "outputs": [
    {
     "data": {
      "text/plain": [
       "'\\\\begin{cases} - VC - VC.x - VC.x^{2} - VC.x^{3} - VC.x^{4} - VC.x^{5} - VC.x^{6} - VC.x^{7} - VC.x^{8} \\\\end{cases}'"
      ]
     },
     "execution_count": 4,
     "metadata": {},
     "output_type": "execute_result"
    }
   ],
   "source": [
    "tokenizer.decode(ids, skip_special_tokens=True)"
   ]
  },
  {
   "cell_type": "markdown",
   "metadata": {},
   "source": [
    "And it is possible to reload the saved dataset as follows"
   ]
  },
  {
   "cell_type": "code",
   "execution_count": 33,
   "metadata": {},
   "outputs": [],
   "source": [
    "from datasets import load_from_disk\n",
    "reloaded_dataset = load_from_disk('preprocessed-dataset')"
   ]
  }
 ],
 "metadata": {
  "kernelspec": {
   "display_name": "tesis-env",
   "language": "python",
   "name": "python3"
  },
  "language_info": {
   "codemirror_mode": {
    "name": "ipython",
    "version": 3
   },
   "file_extension": ".py",
   "mimetype": "text/x-python",
   "name": "python",
   "nbconvert_exporter": "python",
   "pygments_lexer": "ipython3",
   "version": "3.10.12"
  }
 },
 "nbformat": 4,
 "nbformat_minor": 2
}
