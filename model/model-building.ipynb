{
 "cells": [
  {
   "cell_type": "code",
   "execution_count": 1,
   "metadata": {},
   "outputs": [
    {
     "name": "stderr",
     "output_type": "stream",
     "text": [
      "You are using the default legacy behaviour of the <class 'transformers.models.t5.tokenization_t5.T5Tokenizer'>. This is expected, and simply means that the `legacy` (previous) behavior will be used so nothing changes for you. If you want to use the new behaviour, set `legacy=False`. This should only be set if you understand what it means, and thoroughly read the reason why this was added as explained in https://github.com/huggingface/transformers/pull/24565\n",
      "/home/franco/Desktop/TESIS/Code/ThesisModel/tesis-env/lib/python3.10/site-packages/transformers/tokenization_utils_base.py:1601: FutureWarning: `clean_up_tokenization_spaces` was not set. It will be set to `True` by default. This behavior will be depracted in transformers v4.45, and will be then set to `False` by default. For more details check this issue: https://github.com/huggingface/transformers/issues/31884\n",
      "  warnings.warn(\n"
     ]
    }
   ],
   "source": [
    "from datasets import load_from_disk\n",
    "from transformers import T5ForConditionalGeneration\n",
    "from transformers import T5Tokenizer\n",
    "import numpy as np\n",
    "\n",
    "# We reload the saved dataset that was preprocessed in dataset-prep notebook.\n",
    "dataset = load_from_disk('preprocessed-dataset-complete')\n",
    "\n",
    "# We upload the T5 tokenizer\n",
    "tokenizer = T5Tokenizer.from_pretrained(\"vgaraujov/t5-base-spanish\")\n",
    "\n",
    "# We upload the T5 pretrained model base\n",
    "model = T5ForConditionalGeneration.from_pretrained('vgaraujov/t5-base-spanish')\n",
    "#model = MT5ForConditionalGeneration.from_pretrained('./results/t5-finetuned-only-trees')"
   ]
  },
  {
   "cell_type": "code",
   "execution_count": 2,
   "metadata": {},
   "outputs": [],
   "source": [
    "def token_accuracy(pred):\n",
    "    logits = pred.predictions\n",
    "    references = pred.label_ids\n",
    "    predictions = np.argmax(logits, axis=-1)\n",
    "\n",
    "    token_accuracies = []\n",
    "    for pred_tokens, ref_tokens in zip(predictions, references):\n",
    "        correct_tokens = sum(p == r for p, r in zip(pred_tokens, ref_tokens))\n",
    "        token_accuracy = correct_tokens / len(ref_tokens) if len(ref_tokens) > 0 else 0\n",
    "        token_accuracies.append(token_accuracy)\n",
    "\n",
    "    # Calculate F1-score\n",
    "    return {\n",
    "        \"token_accuracy\": sum(token_accuracies) / len(token_accuracies)\n",
    "    }"
   ]
  },
  {
   "cell_type": "code",
   "execution_count": 11,
   "metadata": {},
   "outputs": [],
   "source": [
    "from sklearn.metrics import f1_score\n",
    "\n",
    "def compute_metrics(pred):\n",
    "    logits = pred.predictions\n",
    "    references = pred.label_ids\n",
    "    predictions = np.argmax(logits, axis=-1)\n",
    "\n",
    "    f1 = f1_score(references, predictions, average=\"macro\")\n",
    "\n",
    "    return {\n",
    "        \"f1\": f1\n",
    "    }"
   ]
  },
  {
   "cell_type": "code",
   "execution_count": 2,
   "metadata": {},
   "outputs": [],
   "source": [
    "import torch\n",
    "def preprocess_logits_for_metrics(logits, labels):\n",
    "    \"\"\"\n",
    "    Original Trainer may have a memory leak. \n",
    "    This is a workaround to avoid storing too many tensors that are not needed.\n",
    "    \"\"\"\n",
    "    pred_ids = torch.argmax(logits[0], dim=-1)\n",
    "    return pred_ids, labels"
   ]
  },
  {
   "cell_type": "code",
   "execution_count": 5,
   "metadata": {},
   "outputs": [],
   "source": [
    "from transformers import Trainer, TrainingArguments, DataCollatorForSeq2Seq\n",
    "\n",
    "\n",
    "# Definir los argumentos de entrenamiento\n",
    "training_args = TrainingArguments(\n",
    "    output_dir='./results',          # Directorio de salida\n",
    "    eval_strategy='steps',     # Estrategia de evaluación\n",
    "    learning_rate=3e-4,              # Tasa de aprendizaje\n",
    "    per_device_train_batch_size=4,   # Tamaño del batch para entrenamiento\n",
    "    per_device_eval_batch_size=4,    # Tamaño del batch para evaluación\n",
    "    weight_decay=0.01,               # Decaimiento de peso\n",
    "    save_total_limit=3,              # Límite de guardado\n",
    "    num_train_epochs=5,              # Número de épocas de entrenamiento\n",
    "    fp16=True,                       # Usar FP16 si está disponible\n",
    "    logging_steps=100,\n",
    "    logging_dir='./logs'\n",
    ")\n",
    "\n",
    "data_collator = DataCollatorForSeq2Seq(tokenizer=tokenizer, model=model)\n",
    "\n",
    "# Crear el entrenador\n",
    "trainer = Trainer(\n",
    "    model=model,                         # El modelo\n",
    "    args=training_args,                  # Argumentos de entrenamiento\n",
    "    train_dataset=dataset['train'],    # Dataset de entrenamiento\n",
    "    eval_dataset=dataset['validation'],# Dataset de validación\n",
    "    tokenizer=tokenizer,                 # Tokenizador\n",
    "    data_collator=data_collator,\n",
    "    preprocess_logits_for_metrics=preprocess_logits_for_metrics,\n",
    ")"
   ]
  },
  {
   "cell_type": "code",
   "execution_count": 6,
   "metadata": {},
   "outputs": [
    {
     "data": {
      "application/vnd.jupyter.widget-view+json": {
       "model_id": "56c6c527d5514a2f976d79f1089de670",
       "version_major": 2,
       "version_minor": 0
      },
      "text/plain": [
       "  0%|          | 0/4645 [00:00<?, ?it/s]"
      ]
     },
     "metadata": {},
     "output_type": "display_data"
    },
    {
     "name": "stdout",
     "output_type": "stream",
     "text": [
      "{'loss': 1.449, 'grad_norm': 1.6775729656219482, 'learning_rate': 0.0002935414424111948, 'epoch': 0.11}\n"
     ]
    },
    {
     "data": {
      "application/vnd.jupyter.widget-view+json": {
       "model_id": "34b251b18d294905ad974880d2f60444",
       "version_major": 2,
       "version_minor": 0
      },
      "text/plain": [
       "  0%|          | 0/36 [00:00<?, ?it/s]"
      ]
     },
     "metadata": {},
     "output_type": "display_data"
    },
    {
     "name": "stdout",
     "output_type": "stream",
     "text": [
      "{'eval_loss': 0.7685956954956055, 'eval_runtime': 64.1309, 'eval_samples_per_second': 2.214, 'eval_steps_per_second': 0.561, 'epoch': 0.11}\n",
      "{'loss': 0.6059, 'grad_norm': 1.3278467655181885, 'learning_rate': 0.00028708288482238965, 'epoch': 0.22}\n"
     ]
    },
    {
     "data": {
      "application/vnd.jupyter.widget-view+json": {
       "model_id": "8493140e97e1458c9474c561ba6c5aa1",
       "version_major": 2,
       "version_minor": 0
      },
      "text/plain": [
       "  0%|          | 0/36 [00:00<?, ?it/s]"
      ]
     },
     "metadata": {},
     "output_type": "display_data"
    },
    {
     "name": "stdout",
     "output_type": "stream",
     "text": [
      "{'eval_loss': 0.7397180199623108, 'eval_runtime': 63.608, 'eval_samples_per_second': 2.232, 'eval_steps_per_second': 0.566, 'epoch': 0.22}\n",
      "{'loss': 0.508, 'grad_norm': 0.9548324346542358, 'learning_rate': 0.00028062432723358446, 'epoch': 0.32}\n"
     ]
    },
    {
     "data": {
      "application/vnd.jupyter.widget-view+json": {
       "model_id": "0057a1227c884427b6c73a774d3447c1",
       "version_major": 2,
       "version_minor": 0
      },
      "text/plain": [
       "  0%|          | 0/36 [00:00<?, ?it/s]"
      ]
     },
     "metadata": {},
     "output_type": "display_data"
    },
    {
     "name": "stdout",
     "output_type": "stream",
     "text": [
      "{'eval_loss': 0.6178632974624634, 'eval_runtime': 63.1661, 'eval_samples_per_second': 2.248, 'eval_steps_per_second': 0.57, 'epoch': 0.32}\n",
      "{'loss': 0.4257, 'grad_norm': 0.9381598234176636, 'learning_rate': 0.0002741657696447793, 'epoch': 0.43}\n"
     ]
    },
    {
     "data": {
      "application/vnd.jupyter.widget-view+json": {
       "model_id": "8eaf6e72e35c43e2ba0d95e62d6481e0",
       "version_major": 2,
       "version_minor": 0
      },
      "text/plain": [
       "  0%|          | 0/36 [00:00<?, ?it/s]"
      ]
     },
     "metadata": {},
     "output_type": "display_data"
    },
    {
     "name": "stdout",
     "output_type": "stream",
     "text": [
      "{'eval_loss': 0.6331713199615479, 'eval_runtime': 62.9778, 'eval_samples_per_second': 2.255, 'eval_steps_per_second': 0.572, 'epoch': 0.43}\n",
      "{'loss': 0.3728, 'grad_norm': 0.545567512512207, 'learning_rate': 0.00026770721205597413, 'epoch': 0.54}\n"
     ]
    },
    {
     "data": {
      "application/vnd.jupyter.widget-view+json": {
       "model_id": "1ba631acdd8842a39f08492de9fa6cd9",
       "version_major": 2,
       "version_minor": 0
      },
      "text/plain": [
       "  0%|          | 0/36 [00:00<?, ?it/s]"
      ]
     },
     "metadata": {},
     "output_type": "display_data"
    },
    {
     "name": "stdout",
     "output_type": "stream",
     "text": [
      "{'eval_loss': 0.5643516778945923, 'eval_runtime': 61.7281, 'eval_samples_per_second': 2.3, 'eval_steps_per_second': 0.583, 'epoch': 0.54}\n",
      "{'loss': 0.3821, 'grad_norm': 0.46359288692474365, 'learning_rate': 0.00026124865446716894, 'epoch': 0.65}\n"
     ]
    },
    {
     "data": {
      "application/vnd.jupyter.widget-view+json": {
       "model_id": "e6f94cbd9b7448e4acdcf69c8b0ce84f",
       "version_major": 2,
       "version_minor": 0
      },
      "text/plain": [
       "  0%|          | 0/36 [00:00<?, ?it/s]"
      ]
     },
     "metadata": {},
     "output_type": "display_data"
    },
    {
     "name": "stdout",
     "output_type": "stream",
     "text": [
      "{'eval_loss': 0.5070772171020508, 'eval_runtime': 69.3279, 'eval_samples_per_second': 2.048, 'eval_steps_per_second': 0.519, 'epoch': 0.65}\n",
      "{'loss': 0.3353, 'grad_norm': 0.7352139949798584, 'learning_rate': 0.0002547900968783638, 'epoch': 0.75}\n"
     ]
    },
    {
     "data": {
      "application/vnd.jupyter.widget-view+json": {
       "model_id": "018946c17ebf47519edcc7b28eb7c241",
       "version_major": 2,
       "version_minor": 0
      },
      "text/plain": [
       "  0%|          | 0/36 [00:00<?, ?it/s]"
      ]
     },
     "metadata": {},
     "output_type": "display_data"
    },
    {
     "name": "stdout",
     "output_type": "stream",
     "text": [
      "{'eval_loss': 0.5056213736534119, 'eval_runtime': 57.2192, 'eval_samples_per_second': 2.482, 'eval_steps_per_second': 0.629, 'epoch': 0.75}\n",
      "{'loss': 0.345, 'grad_norm': 0.7274213433265686, 'learning_rate': 0.00024833153928955867, 'epoch': 0.86}\n"
     ]
    },
    {
     "data": {
      "application/vnd.jupyter.widget-view+json": {
       "model_id": "99dd27809a30437283cd5091a4389ba3",
       "version_major": 2,
       "version_minor": 0
      },
      "text/plain": [
       "  0%|          | 0/36 [00:00<?, ?it/s]"
      ]
     },
     "metadata": {},
     "output_type": "display_data"
    },
    {
     "name": "stdout",
     "output_type": "stream",
     "text": [
      "{'eval_loss': 0.4722718894481659, 'eval_runtime': 73.8674, 'eval_samples_per_second': 1.922, 'eval_steps_per_second': 0.487, 'epoch': 0.86}\n",
      "{'loss': 0.3112, 'grad_norm': 1.1028333902359009, 'learning_rate': 0.00024187298170075348, 'epoch': 0.97}\n"
     ]
    },
    {
     "data": {
      "application/vnd.jupyter.widget-view+json": {
       "model_id": "a7a25fc0bf534715a8341c01dc0d6008",
       "version_major": 2,
       "version_minor": 0
      },
      "text/plain": [
       "  0%|          | 0/36 [00:00<?, ?it/s]"
      ]
     },
     "metadata": {},
     "output_type": "display_data"
    },
    {
     "name": "stdout",
     "output_type": "stream",
     "text": [
      "{'eval_loss': 0.46830737590789795, 'eval_runtime': 74.5968, 'eval_samples_per_second': 1.904, 'eval_steps_per_second': 0.483, 'epoch': 0.97}\n",
      "{'loss': 0.2952, 'grad_norm': 0.9828572869300842, 'learning_rate': 0.0002354144241119483, 'epoch': 1.08}\n"
     ]
    },
    {
     "data": {
      "application/vnd.jupyter.widget-view+json": {
       "model_id": "89eff33b7b8c47af8359605302ebd719",
       "version_major": 2,
       "version_minor": 0
      },
      "text/plain": [
       "  0%|          | 0/36 [00:00<?, ?it/s]"
      ]
     },
     "metadata": {},
     "output_type": "display_data"
    },
    {
     "name": "stdout",
     "output_type": "stream",
     "text": [
      "{'eval_loss': 0.4520767033100128, 'eval_runtime': 74.3292, 'eval_samples_per_second': 1.91, 'eval_steps_per_second': 0.484, 'epoch': 1.08}\n",
      "{'loss': 0.2775, 'grad_norm': 0.9398730397224426, 'learning_rate': 0.00022895586652314315, 'epoch': 1.18}\n"
     ]
    },
    {
     "data": {
      "application/vnd.jupyter.widget-view+json": {
       "model_id": "d5a023b30b624a98bc14d6b9bb1c2c58",
       "version_major": 2,
       "version_minor": 0
      },
      "text/plain": [
       "  0%|          | 0/36 [00:00<?, ?it/s]"
      ]
     },
     "metadata": {},
     "output_type": "display_data"
    },
    {
     "name": "stdout",
     "output_type": "stream",
     "text": [
      "{'eval_loss': 0.40853869915008545, 'eval_runtime': 77.414, 'eval_samples_per_second': 1.834, 'eval_steps_per_second': 0.465, 'epoch': 1.18}\n",
      "{'loss': 0.263, 'grad_norm': 1.4869905710220337, 'learning_rate': 0.00022249730893433799, 'epoch': 1.29}\n"
     ]
    },
    {
     "data": {
      "application/vnd.jupyter.widget-view+json": {
       "model_id": "4b3ee9caeafd41678d0218b9ddad83e4",
       "version_major": 2,
       "version_minor": 0
      },
      "text/plain": [
       "  0%|          | 0/36 [00:00<?, ?it/s]"
      ]
     },
     "metadata": {},
     "output_type": "display_data"
    },
    {
     "name": "stdout",
     "output_type": "stream",
     "text": [
      "{'eval_loss': 0.4030405879020691, 'eval_runtime': 61.2288, 'eval_samples_per_second': 2.319, 'eval_steps_per_second': 0.588, 'epoch': 1.29}\n",
      "{'loss': 0.2431, 'grad_norm': 0.717812180519104, 'learning_rate': 0.00021603875134553282, 'epoch': 1.4}\n"
     ]
    },
    {
     "data": {
      "application/vnd.jupyter.widget-view+json": {
       "model_id": "85f6d37295f846a08cc27e9c9720955b",
       "version_major": 2,
       "version_minor": 0
      },
      "text/plain": [
       "  0%|          | 0/36 [00:00<?, ?it/s]"
      ]
     },
     "metadata": {},
     "output_type": "display_data"
    },
    {
     "name": "stdout",
     "output_type": "stream",
     "text": [
      "{'eval_loss': 0.39047110080718994, 'eval_runtime': 59.9422, 'eval_samples_per_second': 2.369, 'eval_steps_per_second': 0.601, 'epoch': 1.4}\n",
      "{'loss': 0.2465, 'grad_norm': 0.5883283019065857, 'learning_rate': 0.00020958019375672763, 'epoch': 1.51}\n"
     ]
    },
    {
     "data": {
      "application/vnd.jupyter.widget-view+json": {
       "model_id": "2bb6db6e4e2a409f95d256b3c46cfaa8",
       "version_major": 2,
       "version_minor": 0
      },
      "text/plain": [
       "  0%|          | 0/36 [00:00<?, ?it/s]"
      ]
     },
     "metadata": {},
     "output_type": "display_data"
    },
    {
     "name": "stdout",
     "output_type": "stream",
     "text": [
      "{'eval_loss': 0.36811426281929016, 'eval_runtime': 64.6873, 'eval_samples_per_second': 2.195, 'eval_steps_per_second': 0.557, 'epoch': 1.51}\n",
      "{'loss': 0.2272, 'grad_norm': 0.9509590864181519, 'learning_rate': 0.00020312163616792247, 'epoch': 1.61}\n"
     ]
    },
    {
     "data": {
      "application/vnd.jupyter.widget-view+json": {
       "model_id": "202228c6c5e64953b8ef69b484ac36b6",
       "version_major": 2,
       "version_minor": 0
      },
      "text/plain": [
       "  0%|          | 0/36 [00:00<?, ?it/s]"
      ]
     },
     "metadata": {},
     "output_type": "display_data"
    },
    {
     "name": "stdout",
     "output_type": "stream",
     "text": [
      "{'eval_loss': 0.3411712646484375, 'eval_runtime': 75.5381, 'eval_samples_per_second': 1.88, 'eval_steps_per_second': 0.477, 'epoch': 1.61}\n",
      "{'loss': 0.229, 'grad_norm': 0.7389516234397888, 'learning_rate': 0.0001966630785791173, 'epoch': 1.72}\n"
     ]
    },
    {
     "data": {
      "application/vnd.jupyter.widget-view+json": {
       "model_id": "145201a4967448e5976d470d6febf23a",
       "version_major": 2,
       "version_minor": 0
      },
      "text/plain": [
       "  0%|          | 0/36 [00:00<?, ?it/s]"
      ]
     },
     "metadata": {},
     "output_type": "display_data"
    },
    {
     "name": "stdout",
     "output_type": "stream",
     "text": [
      "{'eval_loss': 0.34023311734199524, 'eval_runtime': 73.8041, 'eval_samples_per_second': 1.924, 'eval_steps_per_second': 0.488, 'epoch': 1.72}\n",
      "{'loss': 0.2359, 'grad_norm': 1.0175586938858032, 'learning_rate': 0.00019020452099031214, 'epoch': 1.83}\n"
     ]
    },
    {
     "data": {
      "application/vnd.jupyter.widget-view+json": {
       "model_id": "097c4249b4184c4489da8267109813eb",
       "version_major": 2,
       "version_minor": 0
      },
      "text/plain": [
       "  0%|          | 0/36 [00:00<?, ?it/s]"
      ]
     },
     "metadata": {},
     "output_type": "display_data"
    },
    {
     "name": "stdout",
     "output_type": "stream",
     "text": [
      "{'eval_loss': 0.3302302956581116, 'eval_runtime': 78.8465, 'eval_samples_per_second': 1.801, 'eval_steps_per_second': 0.457, 'epoch': 1.83}\n",
      "{'loss': 0.2025, 'grad_norm': 0.6189272999763489, 'learning_rate': 0.00018374596340150698, 'epoch': 1.94}\n"
     ]
    },
    {
     "data": {
      "application/vnd.jupyter.widget-view+json": {
       "model_id": "8814a1da382744a9989e6cb6a9f492ee",
       "version_major": 2,
       "version_minor": 0
      },
      "text/plain": [
       "  0%|          | 0/36 [00:00<?, ?it/s]"
      ]
     },
     "metadata": {},
     "output_type": "display_data"
    },
    {
     "name": "stdout",
     "output_type": "stream",
     "text": [
      "{'eval_loss': 0.3111824691295624, 'eval_runtime': 54.758, 'eval_samples_per_second': 2.593, 'eval_steps_per_second': 0.657, 'epoch': 1.94}\n",
      "{'loss': 0.2156, 'grad_norm': 0.5202583074569702, 'learning_rate': 0.0001772874058127018, 'epoch': 2.05}\n"
     ]
    },
    {
     "data": {
      "application/vnd.jupyter.widget-view+json": {
       "model_id": "4cbaf391e52f478595bd55b0adfa6ff0",
       "version_major": 2,
       "version_minor": 0
      },
      "text/plain": [
       "  0%|          | 0/36 [00:00<?, ?it/s]"
      ]
     },
     "metadata": {},
     "output_type": "display_data"
    },
    {
     "name": "stdout",
     "output_type": "stream",
     "text": [
      "{'eval_loss': 0.31269359588623047, 'eval_runtime': 59.6659, 'eval_samples_per_second': 2.38, 'eval_steps_per_second': 0.603, 'epoch': 2.05}\n",
      "{'loss': 0.1915, 'grad_norm': 0.9444211721420288, 'learning_rate': 0.00017082884822389665, 'epoch': 2.15}\n"
     ]
    },
    {
     "data": {
      "application/vnd.jupyter.widget-view+json": {
       "model_id": "4d317793adfa4be682671b3303b1a514",
       "version_major": 2,
       "version_minor": 0
      },
      "text/plain": [
       "  0%|          | 0/36 [00:00<?, ?it/s]"
      ]
     },
     "metadata": {},
     "output_type": "display_data"
    },
    {
     "name": "stdout",
     "output_type": "stream",
     "text": [
      "{'eval_loss': 0.29869797825813293, 'eval_runtime': 71.9861, 'eval_samples_per_second': 1.973, 'eval_steps_per_second': 0.5, 'epoch': 2.15}\n",
      "{'loss': 0.1931, 'grad_norm': 0.28051677346229553, 'learning_rate': 0.0001643702906350915, 'epoch': 2.26}\n"
     ]
    },
    {
     "data": {
      "application/vnd.jupyter.widget-view+json": {
       "model_id": "ca6f19faf55849d3abb3db63f6cbdf36",
       "version_major": 2,
       "version_minor": 0
      },
      "text/plain": [
       "  0%|          | 0/36 [00:00<?, ?it/s]"
      ]
     },
     "metadata": {},
     "output_type": "display_data"
    },
    {
     "name": "stdout",
     "output_type": "stream",
     "text": [
      "{'eval_loss': 0.2804013788700104, 'eval_runtime': 75.1228, 'eval_samples_per_second': 1.89, 'eval_steps_per_second': 0.479, 'epoch': 2.26}\n",
      "{'loss': 0.1762, 'grad_norm': 0.3813159763813019, 'learning_rate': 0.00015791173304628632, 'epoch': 2.37}\n"
     ]
    },
    {
     "data": {
      "application/vnd.jupyter.widget-view+json": {
       "model_id": "4498b546c6c44c90a9904ab3f661fdd8",
       "version_major": 2,
       "version_minor": 0
      },
      "text/plain": [
       "  0%|          | 0/36 [00:00<?, ?it/s]"
      ]
     },
     "metadata": {},
     "output_type": "display_data"
    },
    {
     "name": "stdout",
     "output_type": "stream",
     "text": [
      "{'eval_loss': 0.2735788822174072, 'eval_runtime': 56.2674, 'eval_samples_per_second': 2.524, 'eval_steps_per_second': 0.64, 'epoch': 2.37}\n",
      "{'loss': 0.1747, 'grad_norm': 0.767526388168335, 'learning_rate': 0.00015145317545748116, 'epoch': 2.48}\n"
     ]
    },
    {
     "data": {
      "application/vnd.jupyter.widget-view+json": {
       "model_id": "da06e9c4bbf14fdeb2206c365c0426cb",
       "version_major": 2,
       "version_minor": 0
      },
      "text/plain": [
       "  0%|          | 0/36 [00:00<?, ?it/s]"
      ]
     },
     "metadata": {},
     "output_type": "display_data"
    },
    {
     "name": "stdout",
     "output_type": "stream",
     "text": [
      "{'eval_loss': 0.26101070642471313, 'eval_runtime': 54.4877, 'eval_samples_per_second': 2.606, 'eval_steps_per_second': 0.661, 'epoch': 2.48}\n",
      "{'loss': 0.1553, 'grad_norm': 0.637005627155304, 'learning_rate': 0.000144994617868676, 'epoch': 2.58}\n"
     ]
    },
    {
     "data": {
      "application/vnd.jupyter.widget-view+json": {
       "model_id": "e7f96fe5548d4969b11793145182b870",
       "version_major": 2,
       "version_minor": 0
      },
      "text/plain": [
       "  0%|          | 0/36 [00:00<?, ?it/s]"
      ]
     },
     "metadata": {},
     "output_type": "display_data"
    },
    {
     "name": "stdout",
     "output_type": "stream",
     "text": [
      "{'eval_loss': 0.27439644932746887, 'eval_runtime': 54.3506, 'eval_samples_per_second': 2.613, 'eval_steps_per_second': 0.662, 'epoch': 2.58}\n",
      "{'loss': 0.1705, 'grad_norm': 0.7207756638526917, 'learning_rate': 0.0001385360602798708, 'epoch': 2.69}\n"
     ]
    },
    {
     "data": {
      "application/vnd.jupyter.widget-view+json": {
       "model_id": "288ecc92716a428fab032f82fe8ff78a",
       "version_major": 2,
       "version_minor": 0
      },
      "text/plain": [
       "  0%|          | 0/36 [00:00<?, ?it/s]"
      ]
     },
     "metadata": {},
     "output_type": "display_data"
    },
    {
     "name": "stdout",
     "output_type": "stream",
     "text": [
      "{'eval_loss': 0.25465983152389526, 'eval_runtime': 64.2974, 'eval_samples_per_second': 2.208, 'eval_steps_per_second': 0.56, 'epoch': 2.69}\n",
      "{'loss': 0.1825, 'grad_norm': 0.8098375201225281, 'learning_rate': 0.00013207750269106564, 'epoch': 2.8}\n"
     ]
    },
    {
     "data": {
      "application/vnd.jupyter.widget-view+json": {
       "model_id": "4b6c099296274d8a97daf9f6433d9cbf",
       "version_major": 2,
       "version_minor": 0
      },
      "text/plain": [
       "  0%|          | 0/36 [00:00<?, ?it/s]"
      ]
     },
     "metadata": {},
     "output_type": "display_data"
    },
    {
     "name": "stdout",
     "output_type": "stream",
     "text": [
      "{'eval_loss': 0.24782529473304749, 'eval_runtime': 62.8148, 'eval_samples_per_second': 2.261, 'eval_steps_per_second': 0.573, 'epoch': 2.8}\n",
      "{'loss': 0.172, 'grad_norm': 0.5804417133331299, 'learning_rate': 0.00012561894510226048, 'epoch': 2.91}\n"
     ]
    },
    {
     "data": {
      "application/vnd.jupyter.widget-view+json": {
       "model_id": "de74383cf50840b7b1be5275ba121687",
       "version_major": 2,
       "version_minor": 0
      },
      "text/plain": [
       "  0%|          | 0/36 [00:00<?, ?it/s]"
      ]
     },
     "metadata": {},
     "output_type": "display_data"
    },
    {
     "name": "stdout",
     "output_type": "stream",
     "text": [
      "{'eval_loss': 0.2339341938495636, 'eval_runtime': 73.9737, 'eval_samples_per_second': 1.92, 'eval_steps_per_second': 0.487, 'epoch': 2.91}\n",
      "{'loss': 0.1578, 'grad_norm': 0.7958263754844666, 'learning_rate': 0.00011916038751345532, 'epoch': 3.01}\n"
     ]
    },
    {
     "data": {
      "application/vnd.jupyter.widget-view+json": {
       "model_id": "98e5d4dcd42c493fb4f553e198d1ad90",
       "version_major": 2,
       "version_minor": 0
      },
      "text/plain": [
       "  0%|          | 0/36 [00:00<?, ?it/s]"
      ]
     },
     "metadata": {},
     "output_type": "display_data"
    },
    {
     "name": "stdout",
     "output_type": "stream",
     "text": [
      "{'eval_loss': 0.23189832270145416, 'eval_runtime': 64.4249, 'eval_samples_per_second': 2.204, 'eval_steps_per_second': 0.559, 'epoch': 3.01}\n",
      "{'loss': 0.1344, 'grad_norm': 0.7088913321495056, 'learning_rate': 0.00011270182992465014, 'epoch': 3.12}\n"
     ]
    },
    {
     "data": {
      "application/vnd.jupyter.widget-view+json": {
       "model_id": "3ed2c3fade86497ab95d1fa9c2525a04",
       "version_major": 2,
       "version_minor": 0
      },
      "text/plain": [
       "  0%|          | 0/36 [00:00<?, ?it/s]"
      ]
     },
     "metadata": {},
     "output_type": "display_data"
    },
    {
     "name": "stdout",
     "output_type": "stream",
     "text": [
      "{'eval_loss': 0.20932748913764954, 'eval_runtime': 59.6909, 'eval_samples_per_second': 2.379, 'eval_steps_per_second': 0.603, 'epoch': 3.12}\n",
      "{'loss': 0.1313, 'grad_norm': 1.398024320602417, 'learning_rate': 0.00010624327233584499, 'epoch': 3.23}\n"
     ]
    },
    {
     "data": {
      "application/vnd.jupyter.widget-view+json": {
       "model_id": "c6c3c395e00f441b87d54771e526fcb9",
       "version_major": 2,
       "version_minor": 0
      },
      "text/plain": [
       "  0%|          | 0/36 [00:00<?, ?it/s]"
      ]
     },
     "metadata": {},
     "output_type": "display_data"
    },
    {
     "name": "stdout",
     "output_type": "stream",
     "text": [
      "{'eval_loss': 0.20702151954174042, 'eval_runtime': 71.1696, 'eval_samples_per_second': 1.995, 'eval_steps_per_second': 0.506, 'epoch': 3.23}\n",
      "{'loss': 0.1591, 'grad_norm': 0.4742352068424225, 'learning_rate': 9.978471474703983e-05, 'epoch': 3.34}\n"
     ]
    },
    {
     "data": {
      "application/vnd.jupyter.widget-view+json": {
       "model_id": "20498cfa86ce48d59a8e0ca228176c3e",
       "version_major": 2,
       "version_minor": 0
      },
      "text/plain": [
       "  0%|          | 0/36 [00:00<?, ?it/s]"
      ]
     },
     "metadata": {},
     "output_type": "display_data"
    },
    {
     "name": "stdout",
     "output_type": "stream",
     "text": [
      "{'eval_loss': 0.20262329280376434, 'eval_runtime': 69.6213, 'eval_samples_per_second': 2.04, 'eval_steps_per_second': 0.517, 'epoch': 3.34}\n",
      "{'loss': 0.1191, 'grad_norm': 0.45089900493621826, 'learning_rate': 9.332615715823465e-05, 'epoch': 3.44}\n"
     ]
    },
    {
     "data": {
      "application/vnd.jupyter.widget-view+json": {
       "model_id": "29f5553a30b2482da59c2eff6f5b61a6",
       "version_major": 2,
       "version_minor": 0
      },
      "text/plain": [
       "  0%|          | 0/36 [00:00<?, ?it/s]"
      ]
     },
     "metadata": {},
     "output_type": "display_data"
    },
    {
     "name": "stdout",
     "output_type": "stream",
     "text": [
      "{'eval_loss': 0.1970006376504898, 'eval_runtime': 66.6605, 'eval_samples_per_second': 2.13, 'eval_steps_per_second': 0.54, 'epoch': 3.44}\n",
      "{'loss': 0.1333, 'grad_norm': 0.990903913974762, 'learning_rate': 8.686759956942948e-05, 'epoch': 3.55}\n"
     ]
    },
    {
     "data": {
      "application/vnd.jupyter.widget-view+json": {
       "model_id": "f9ba25a4efbd45ada9c7fec8b7089fdd",
       "version_major": 2,
       "version_minor": 0
      },
      "text/plain": [
       "  0%|          | 0/36 [00:00<?, ?it/s]"
      ]
     },
     "metadata": {},
     "output_type": "display_data"
    },
    {
     "name": "stdout",
     "output_type": "stream",
     "text": [
      "{'eval_loss': 0.18846863508224487, 'eval_runtime': 62.7014, 'eval_samples_per_second': 2.265, 'eval_steps_per_second': 0.574, 'epoch': 3.55}\n",
      "{'loss': 0.1395, 'grad_norm': 0.37987130880355835, 'learning_rate': 8.040904198062432e-05, 'epoch': 3.66}\n"
     ]
    },
    {
     "data": {
      "application/vnd.jupyter.widget-view+json": {
       "model_id": "8c955c1a2253457abaa69f94c354f162",
       "version_major": 2,
       "version_minor": 0
      },
      "text/plain": [
       "  0%|          | 0/36 [00:00<?, ?it/s]"
      ]
     },
     "metadata": {},
     "output_type": "display_data"
    },
    {
     "name": "stdout",
     "output_type": "stream",
     "text": [
      "{'eval_loss': 0.18134506046772003, 'eval_runtime': 59.0093, 'eval_samples_per_second': 2.406, 'eval_steps_per_second': 0.61, 'epoch': 3.66}\n",
      "{'loss': 0.1223, 'grad_norm': 0.5670006275177002, 'learning_rate': 7.395048439181916e-05, 'epoch': 3.77}\n"
     ]
    },
    {
     "data": {
      "application/vnd.jupyter.widget-view+json": {
       "model_id": "c99fd20f89ba42c39b27b4a11d2c1fb4",
       "version_major": 2,
       "version_minor": 0
      },
      "text/plain": [
       "  0%|          | 0/36 [00:00<?, ?it/s]"
      ]
     },
     "metadata": {},
     "output_type": "display_data"
    },
    {
     "name": "stdout",
     "output_type": "stream",
     "text": [
      "{'eval_loss': 0.17986665666103363, 'eval_runtime': 55.4916, 'eval_samples_per_second': 2.559, 'eval_steps_per_second': 0.649, 'epoch': 3.77}\n",
      "{'loss': 0.1462, 'grad_norm': 0.43387657403945923, 'learning_rate': 6.749192680301398e-05, 'epoch': 3.88}\n"
     ]
    },
    {
     "data": {
      "application/vnd.jupyter.widget-view+json": {
       "model_id": "d98688d3f4b74900a1b8887efd20b620",
       "version_major": 2,
       "version_minor": 0
      },
      "text/plain": [
       "  0%|          | 0/36 [00:00<?, ?it/s]"
      ]
     },
     "metadata": {},
     "output_type": "display_data"
    },
    {
     "name": "stdout",
     "output_type": "stream",
     "text": [
      "{'eval_loss': 0.18029819428920746, 'eval_runtime': 51.7528, 'eval_samples_per_second': 2.744, 'eval_steps_per_second': 0.696, 'epoch': 3.88}\n",
      "{'loss': 0.1265, 'grad_norm': 0.5330030918121338, 'learning_rate': 6.103336921420882e-05, 'epoch': 3.98}\n"
     ]
    },
    {
     "data": {
      "application/vnd.jupyter.widget-view+json": {
       "model_id": "353075d093104ec9b264bce749df906f",
       "version_major": 2,
       "version_minor": 0
      },
      "text/plain": [
       "  0%|          | 0/36 [00:00<?, ?it/s]"
      ]
     },
     "metadata": {},
     "output_type": "display_data"
    },
    {
     "name": "stdout",
     "output_type": "stream",
     "text": [
      "{'eval_loss': 0.1676575243473053, 'eval_runtime': 56.7868, 'eval_samples_per_second': 2.501, 'eval_steps_per_second': 0.634, 'epoch': 3.98}\n",
      "{'loss': 0.1121, 'grad_norm': 0.38995450735092163, 'learning_rate': 5.457481162540366e-05, 'epoch': 4.09}\n"
     ]
    },
    {
     "data": {
      "application/vnd.jupyter.widget-view+json": {
       "model_id": "a850f910e169418fbb0deb97da3e5d14",
       "version_major": 2,
       "version_minor": 0
      },
      "text/plain": [
       "  0%|          | 0/36 [00:00<?, ?it/s]"
      ]
     },
     "metadata": {},
     "output_type": "display_data"
    },
    {
     "name": "stdout",
     "output_type": "stream",
     "text": [
      "{'eval_loss': 0.15614382922649384, 'eval_runtime': 63.3897, 'eval_samples_per_second': 2.24, 'eval_steps_per_second': 0.568, 'epoch': 4.09}\n",
      "{'loss': 0.1135, 'grad_norm': 0.8713639974594116, 'learning_rate': 4.811625403659849e-05, 'epoch': 4.2}\n"
     ]
    },
    {
     "data": {
      "application/vnd.jupyter.widget-view+json": {
       "model_id": "f22729d827134e709bb7ace79bc4cdea",
       "version_major": 2,
       "version_minor": 0
      },
      "text/plain": [
       "  0%|          | 0/36 [00:00<?, ?it/s]"
      ]
     },
     "metadata": {},
     "output_type": "display_data"
    },
    {
     "name": "stdout",
     "output_type": "stream",
     "text": [
      "{'eval_loss': 0.15563558042049408, 'eval_runtime': 68.3743, 'eval_samples_per_second': 2.077, 'eval_steps_per_second': 0.527, 'epoch': 4.2}\n",
      "{'loss': 0.1001, 'grad_norm': 1.039821982383728, 'learning_rate': 4.165769644779332e-05, 'epoch': 4.31}\n"
     ]
    },
    {
     "data": {
      "application/vnd.jupyter.widget-view+json": {
       "model_id": "ce20bfb6f05a400ea35ca025f81ce9cf",
       "version_major": 2,
       "version_minor": 0
      },
      "text/plain": [
       "  0%|          | 0/36 [00:00<?, ?it/s]"
      ]
     },
     "metadata": {},
     "output_type": "display_data"
    },
    {
     "name": "stdout",
     "output_type": "stream",
     "text": [
      "{'eval_loss': 0.1477048099040985, 'eval_runtime': 69.6525, 'eval_samples_per_second': 2.039, 'eval_steps_per_second': 0.517, 'epoch': 4.31}\n",
      "{'loss': 0.0977, 'grad_norm': 1.1324372291564941, 'learning_rate': 3.519913885898816e-05, 'epoch': 4.41}\n"
     ]
    },
    {
     "data": {
      "application/vnd.jupyter.widget-view+json": {
       "model_id": "c1001c80a8e147be8b8186bfe24dcf00",
       "version_major": 2,
       "version_minor": 0
      },
      "text/plain": [
       "  0%|          | 0/36 [00:00<?, ?it/s]"
      ]
     },
     "metadata": {},
     "output_type": "display_data"
    },
    {
     "name": "stdout",
     "output_type": "stream",
     "text": [
      "{'eval_loss': 0.15007013082504272, 'eval_runtime': 65.2311, 'eval_samples_per_second': 2.177, 'eval_steps_per_second': 0.552, 'epoch': 4.41}\n",
      "{'loss': 0.1071, 'grad_norm': 0.5502436757087708, 'learning_rate': 2.874058127018299e-05, 'epoch': 4.52}\n"
     ]
    },
    {
     "data": {
      "application/vnd.jupyter.widget-view+json": {
       "model_id": "f3bcdf6343ff46dcacb40ddeed8615af",
       "version_major": 2,
       "version_minor": 0
      },
      "text/plain": [
       "  0%|          | 0/36 [00:00<?, ?it/s]"
      ]
     },
     "metadata": {},
     "output_type": "display_data"
    },
    {
     "name": "stdout",
     "output_type": "stream",
     "text": [
      "{'eval_loss': 0.14595066010951996, 'eval_runtime': 71.7842, 'eval_samples_per_second': 1.978, 'eval_steps_per_second': 0.502, 'epoch': 4.52}\n",
      "{'loss': 0.0889, 'grad_norm': 0.28745922446250916, 'learning_rate': 2.2282023681377823e-05, 'epoch': 4.63}\n"
     ]
    },
    {
     "data": {
      "application/vnd.jupyter.widget-view+json": {
       "model_id": "5227b9cae4dd4481a160c851b3b169d4",
       "version_major": 2,
       "version_minor": 0
      },
      "text/plain": [
       "  0%|          | 0/36 [00:00<?, ?it/s]"
      ]
     },
     "metadata": {},
     "output_type": "display_data"
    },
    {
     "name": "stdout",
     "output_type": "stream",
     "text": [
      "{'eval_loss': 0.14152459800243378, 'eval_runtime': 65.9759, 'eval_samples_per_second': 2.152, 'eval_steps_per_second': 0.546, 'epoch': 4.63}\n",
      "{'loss': 0.0991, 'grad_norm': 0.4818344712257385, 'learning_rate': 1.5823466092572657e-05, 'epoch': 4.74}\n"
     ]
    },
    {
     "data": {
      "application/vnd.jupyter.widget-view+json": {
       "model_id": "3c2a2de2ac024abeae1d201e10b73ac2",
       "version_major": 2,
       "version_minor": 0
      },
      "text/plain": [
       "  0%|          | 0/36 [00:00<?, ?it/s]"
      ]
     },
     "metadata": {},
     "output_type": "display_data"
    },
    {
     "name": "stdout",
     "output_type": "stream",
     "text": [
      "{'eval_loss': 0.13864074647426605, 'eval_runtime': 57.2059, 'eval_samples_per_second': 2.482, 'eval_steps_per_second': 0.629, 'epoch': 4.74}\n",
      "{'loss': 0.1098, 'grad_norm': 0.8002377152442932, 'learning_rate': 9.364908503767491e-06, 'epoch': 4.84}\n"
     ]
    },
    {
     "data": {
      "application/vnd.jupyter.widget-view+json": {
       "model_id": "0692ca41628b45f68b7959a05fef2d00",
       "version_major": 2,
       "version_minor": 0
      },
      "text/plain": [
       "  0%|          | 0/36 [00:00<?, ?it/s]"
      ]
     },
     "metadata": {},
     "output_type": "display_data"
    },
    {
     "name": "stdout",
     "output_type": "stream",
     "text": [
      "{'eval_loss': 0.1351364552974701, 'eval_runtime': 80.4721, 'eval_samples_per_second': 1.765, 'eval_steps_per_second': 0.447, 'epoch': 4.84}\n",
      "{'loss': 0.1004, 'grad_norm': 1.3744999170303345, 'learning_rate': 2.906350914962325e-06, 'epoch': 4.95}\n"
     ]
    },
    {
     "data": {
      "application/vnd.jupyter.widget-view+json": {
       "model_id": "7876c32af50b4532a95a71694e4f7a1c",
       "version_major": 2,
       "version_minor": 0
      },
      "text/plain": [
       "  0%|          | 0/36 [00:00<?, ?it/s]"
      ]
     },
     "metadata": {},
     "output_type": "display_data"
    },
    {
     "name": "stdout",
     "output_type": "stream",
     "text": [
      "{'eval_loss': 0.13297851383686066, 'eval_runtime': 67.7068, 'eval_samples_per_second': 2.097, 'eval_steps_per_second': 0.532, 'epoch': 4.95}\n",
      "{'train_runtime': 34326.9713, 'train_samples_per_second': 0.541, 'train_steps_per_second': 0.135, 'train_loss': 0.2351704702182273, 'epoch': 5.0}\n"
     ]
    }
   ],
   "source": [
    "# Entrenar el modelo\n",
    "trainer.train()\n",
    "\n",
    "# Guardar el modelo y el tokenizador\n",
    "trainer.save_model('./results/complete')"
   ]
  },
  {
   "cell_type": "code",
   "execution_count": 8,
   "metadata": {},
   "outputs": [
    {
     "data": {
      "application/vnd.jupyter.widget-view+json": {
       "model_id": "f205861146c74116a17b221ad713128a",
       "version_major": 2,
       "version_minor": 0
      },
      "text/plain": [
       "  0%|          | 0/36 [00:00<?, ?it/s]"
      ]
     },
     "metadata": {},
     "output_type": "display_data"
    },
    {
     "name": "stdout",
     "output_type": "stream",
     "text": [
      "{'eval_loss': 0.10755975544452667, 'eval_runtime': 64.0738, 'eval_samples_per_second': 2.232, 'eval_steps_per_second': 0.562, 'epoch': 5.0}\n"
     ]
    }
   ],
   "source": [
    "results = trainer.evaluate(eval_dataset=dataset['test'])\n",
    "print(results)"
   ]
  },
  {
   "cell_type": "code",
   "execution_count": 7,
   "metadata": {},
   "outputs": [
    {
     "data": {
      "text/plain": [
       "[{'loss': 1.449,\n",
       "  'grad_norm': 1.6775729656219482,\n",
       "  'learning_rate': 0.0002935414424111948,\n",
       "  'epoch': 0.10764262648008611,\n",
       "  'step': 100},\n",
       " {'eval_loss': 0.7685956954956055,\n",
       "  'eval_runtime': 64.1309,\n",
       "  'eval_samples_per_second': 2.214,\n",
       "  'eval_steps_per_second': 0.561,\n",
       "  'epoch': 0.10764262648008611,\n",
       "  'step': 100},\n",
       " {'loss': 0.6059,\n",
       "  'grad_norm': 1.3278467655181885,\n",
       "  'learning_rate': 0.00028708288482238965,\n",
       "  'epoch': 0.21528525296017223,\n",
       "  'step': 200},\n",
       " {'eval_loss': 0.7397180199623108,\n",
       "  'eval_runtime': 63.608,\n",
       "  'eval_samples_per_second': 2.232,\n",
       "  'eval_steps_per_second': 0.566,\n",
       "  'epoch': 0.21528525296017223,\n",
       "  'step': 200},\n",
       " {'loss': 0.508,\n",
       "  'grad_norm': 0.9548324346542358,\n",
       "  'learning_rate': 0.00028062432723358446,\n",
       "  'epoch': 0.32292787944025836,\n",
       "  'step': 300},\n",
       " {'eval_loss': 0.6178632974624634,\n",
       "  'eval_runtime': 63.1661,\n",
       "  'eval_samples_per_second': 2.248,\n",
       "  'eval_steps_per_second': 0.57,\n",
       "  'epoch': 0.32292787944025836,\n",
       "  'step': 300},\n",
       " {'loss': 0.4257,\n",
       "  'grad_norm': 0.9381598234176636,\n",
       "  'learning_rate': 0.0002741657696447793,\n",
       "  'epoch': 0.43057050592034446,\n",
       "  'step': 400},\n",
       " {'eval_loss': 0.6331713199615479,\n",
       "  'eval_runtime': 62.9778,\n",
       "  'eval_samples_per_second': 2.255,\n",
       "  'eval_steps_per_second': 0.572,\n",
       "  'epoch': 0.43057050592034446,\n",
       "  'step': 400},\n",
       " {'loss': 0.3728,\n",
       "  'grad_norm': 0.545567512512207,\n",
       "  'learning_rate': 0.00026770721205597413,\n",
       "  'epoch': 0.5382131324004306,\n",
       "  'step': 500},\n",
       " {'eval_loss': 0.5643516778945923,\n",
       "  'eval_runtime': 61.7281,\n",
       "  'eval_samples_per_second': 2.3,\n",
       "  'eval_steps_per_second': 0.583,\n",
       "  'epoch': 0.5382131324004306,\n",
       "  'step': 500},\n",
       " {'loss': 0.3821,\n",
       "  'grad_norm': 0.46359288692474365,\n",
       "  'learning_rate': 0.00026124865446716894,\n",
       "  'epoch': 0.6458557588805167,\n",
       "  'step': 600},\n",
       " {'eval_loss': 0.5070772171020508,\n",
       "  'eval_runtime': 69.3279,\n",
       "  'eval_samples_per_second': 2.048,\n",
       "  'eval_steps_per_second': 0.519,\n",
       "  'epoch': 0.6458557588805167,\n",
       "  'step': 600},\n",
       " {'loss': 0.3353,\n",
       "  'grad_norm': 0.7352139949798584,\n",
       "  'learning_rate': 0.0002547900968783638,\n",
       "  'epoch': 0.7534983853606028,\n",
       "  'step': 700},\n",
       " {'eval_loss': 0.5056213736534119,\n",
       "  'eval_runtime': 57.2192,\n",
       "  'eval_samples_per_second': 2.482,\n",
       "  'eval_steps_per_second': 0.629,\n",
       "  'epoch': 0.7534983853606028,\n",
       "  'step': 700},\n",
       " {'loss': 0.345,\n",
       "  'grad_norm': 0.7274213433265686,\n",
       "  'learning_rate': 0.00024833153928955867,\n",
       "  'epoch': 0.8611410118406889,\n",
       "  'step': 800},\n",
       " {'eval_loss': 0.4722718894481659,\n",
       "  'eval_runtime': 73.8674,\n",
       "  'eval_samples_per_second': 1.922,\n",
       "  'eval_steps_per_second': 0.487,\n",
       "  'epoch': 0.8611410118406889,\n",
       "  'step': 800},\n",
       " {'loss': 0.3112,\n",
       "  'grad_norm': 1.1028333902359009,\n",
       "  'learning_rate': 0.00024187298170075348,\n",
       "  'epoch': 0.9687836383207751,\n",
       "  'step': 900},\n",
       " {'eval_loss': 0.46830737590789795,\n",
       "  'eval_runtime': 74.5968,\n",
       "  'eval_samples_per_second': 1.904,\n",
       "  'eval_steps_per_second': 0.483,\n",
       "  'epoch': 0.9687836383207751,\n",
       "  'step': 900},\n",
       " {'loss': 0.2952,\n",
       "  'grad_norm': 0.9828572869300842,\n",
       "  'learning_rate': 0.0002354144241119483,\n",
       "  'epoch': 1.0764262648008611,\n",
       "  'step': 1000},\n",
       " {'eval_loss': 0.4520767033100128,\n",
       "  'eval_runtime': 74.3292,\n",
       "  'eval_samples_per_second': 1.91,\n",
       "  'eval_steps_per_second': 0.484,\n",
       "  'epoch': 1.0764262648008611,\n",
       "  'step': 1000},\n",
       " {'loss': 0.2775,\n",
       "  'grad_norm': 0.9398730397224426,\n",
       "  'learning_rate': 0.00022895586652314315,\n",
       "  'epoch': 1.1840688912809472,\n",
       "  'step': 1100},\n",
       " {'eval_loss': 0.40853869915008545,\n",
       "  'eval_runtime': 77.414,\n",
       "  'eval_samples_per_second': 1.834,\n",
       "  'eval_steps_per_second': 0.465,\n",
       "  'epoch': 1.1840688912809472,\n",
       "  'step': 1100},\n",
       " {'loss': 0.263,\n",
       "  'grad_norm': 1.4869905710220337,\n",
       "  'learning_rate': 0.00022249730893433799,\n",
       "  'epoch': 1.2917115177610334,\n",
       "  'step': 1200},\n",
       " {'eval_loss': 0.4030405879020691,\n",
       "  'eval_runtime': 61.2288,\n",
       "  'eval_samples_per_second': 2.319,\n",
       "  'eval_steps_per_second': 0.588,\n",
       "  'epoch': 1.2917115177610334,\n",
       "  'step': 1200},\n",
       " {'loss': 0.2431,\n",
       "  'grad_norm': 0.717812180519104,\n",
       "  'learning_rate': 0.00021603875134553282,\n",
       "  'epoch': 1.3993541442411195,\n",
       "  'step': 1300},\n",
       " {'eval_loss': 0.39047110080718994,\n",
       "  'eval_runtime': 59.9422,\n",
       "  'eval_samples_per_second': 2.369,\n",
       "  'eval_steps_per_second': 0.601,\n",
       "  'epoch': 1.3993541442411195,\n",
       "  'step': 1300},\n",
       " {'loss': 0.2465,\n",
       "  'grad_norm': 0.5883283019065857,\n",
       "  'learning_rate': 0.00020958019375672763,\n",
       "  'epoch': 1.5069967707212055,\n",
       "  'step': 1400},\n",
       " {'eval_loss': 0.36811426281929016,\n",
       "  'eval_runtime': 64.6873,\n",
       "  'eval_samples_per_second': 2.195,\n",
       "  'eval_steps_per_second': 0.557,\n",
       "  'epoch': 1.5069967707212055,\n",
       "  'step': 1400},\n",
       " {'loss': 0.2272,\n",
       "  'grad_norm': 0.9509590864181519,\n",
       "  'learning_rate': 0.00020312163616792247,\n",
       "  'epoch': 1.6146393972012918,\n",
       "  'step': 1500},\n",
       " {'eval_loss': 0.3411712646484375,\n",
       "  'eval_runtime': 75.5381,\n",
       "  'eval_samples_per_second': 1.88,\n",
       "  'eval_steps_per_second': 0.477,\n",
       "  'epoch': 1.6146393972012918,\n",
       "  'step': 1500},\n",
       " {'loss': 0.229,\n",
       "  'grad_norm': 0.7389516234397888,\n",
       "  'learning_rate': 0.0001966630785791173,\n",
       "  'epoch': 1.7222820236813778,\n",
       "  'step': 1600},\n",
       " {'eval_loss': 0.34023311734199524,\n",
       "  'eval_runtime': 73.8041,\n",
       "  'eval_samples_per_second': 1.924,\n",
       "  'eval_steps_per_second': 0.488,\n",
       "  'epoch': 1.7222820236813778,\n",
       "  'step': 1600},\n",
       " {'loss': 0.2359,\n",
       "  'grad_norm': 1.0175586938858032,\n",
       "  'learning_rate': 0.00019020452099031214,\n",
       "  'epoch': 1.8299246501614639,\n",
       "  'step': 1700},\n",
       " {'eval_loss': 0.3302302956581116,\n",
       "  'eval_runtime': 78.8465,\n",
       "  'eval_samples_per_second': 1.801,\n",
       "  'eval_steps_per_second': 0.457,\n",
       "  'epoch': 1.8299246501614639,\n",
       "  'step': 1700},\n",
       " {'loss': 0.2025,\n",
       "  'grad_norm': 0.6189272999763489,\n",
       "  'learning_rate': 0.00018374596340150698,\n",
       "  'epoch': 1.9375672766415502,\n",
       "  'step': 1800},\n",
       " {'eval_loss': 0.3111824691295624,\n",
       "  'eval_runtime': 54.758,\n",
       "  'eval_samples_per_second': 2.593,\n",
       "  'eval_steps_per_second': 0.657,\n",
       "  'epoch': 1.9375672766415502,\n",
       "  'step': 1800},\n",
       " {'loss': 0.2156,\n",
       "  'grad_norm': 0.5202583074569702,\n",
       "  'learning_rate': 0.0001772874058127018,\n",
       "  'epoch': 2.045209903121636,\n",
       "  'step': 1900},\n",
       " {'eval_loss': 0.31269359588623047,\n",
       "  'eval_runtime': 59.6659,\n",
       "  'eval_samples_per_second': 2.38,\n",
       "  'eval_steps_per_second': 0.603,\n",
       "  'epoch': 2.045209903121636,\n",
       "  'step': 1900},\n",
       " {'loss': 0.1915,\n",
       "  'grad_norm': 0.9444211721420288,\n",
       "  'learning_rate': 0.00017082884822389665,\n",
       "  'epoch': 2.1528525296017222,\n",
       "  'step': 2000},\n",
       " {'eval_loss': 0.29869797825813293,\n",
       "  'eval_runtime': 71.9861,\n",
       "  'eval_samples_per_second': 1.973,\n",
       "  'eval_steps_per_second': 0.5,\n",
       "  'epoch': 2.1528525296017222,\n",
       "  'step': 2000},\n",
       " {'loss': 0.1931,\n",
       "  'grad_norm': 0.28051677346229553,\n",
       "  'learning_rate': 0.0001643702906350915,\n",
       "  'epoch': 2.2604951560818085,\n",
       "  'step': 2100},\n",
       " {'eval_loss': 0.2804013788700104,\n",
       "  'eval_runtime': 75.1228,\n",
       "  'eval_samples_per_second': 1.89,\n",
       "  'eval_steps_per_second': 0.479,\n",
       "  'epoch': 2.2604951560818085,\n",
       "  'step': 2100},\n",
       " {'loss': 0.1762,\n",
       "  'grad_norm': 0.3813159763813019,\n",
       "  'learning_rate': 0.00015791173304628632,\n",
       "  'epoch': 2.3681377825618943,\n",
       "  'step': 2200},\n",
       " {'eval_loss': 0.2735788822174072,\n",
       "  'eval_runtime': 56.2674,\n",
       "  'eval_samples_per_second': 2.524,\n",
       "  'eval_steps_per_second': 0.64,\n",
       "  'epoch': 2.3681377825618943,\n",
       "  'step': 2200},\n",
       " {'loss': 0.1747,\n",
       "  'grad_norm': 0.767526388168335,\n",
       "  'learning_rate': 0.00015145317545748116,\n",
       "  'epoch': 2.4757804090419806,\n",
       "  'step': 2300},\n",
       " {'eval_loss': 0.26101070642471313,\n",
       "  'eval_runtime': 54.4877,\n",
       "  'eval_samples_per_second': 2.606,\n",
       "  'eval_steps_per_second': 0.661,\n",
       "  'epoch': 2.4757804090419806,\n",
       "  'step': 2300},\n",
       " {'loss': 0.1553,\n",
       "  'grad_norm': 0.637005627155304,\n",
       "  'learning_rate': 0.000144994617868676,\n",
       "  'epoch': 2.583423035522067,\n",
       "  'step': 2400},\n",
       " {'eval_loss': 0.27439644932746887,\n",
       "  'eval_runtime': 54.3506,\n",
       "  'eval_samples_per_second': 2.613,\n",
       "  'eval_steps_per_second': 0.662,\n",
       "  'epoch': 2.583423035522067,\n",
       "  'step': 2400},\n",
       " {'loss': 0.1705,\n",
       "  'grad_norm': 0.7207756638526917,\n",
       "  'learning_rate': 0.0001385360602798708,\n",
       "  'epoch': 2.6910656620021527,\n",
       "  'step': 2500},\n",
       " {'eval_loss': 0.25465983152389526,\n",
       "  'eval_runtime': 64.2974,\n",
       "  'eval_samples_per_second': 2.208,\n",
       "  'eval_steps_per_second': 0.56,\n",
       "  'epoch': 2.6910656620021527,\n",
       "  'step': 2500},\n",
       " {'loss': 0.1825,\n",
       "  'grad_norm': 0.8098375201225281,\n",
       "  'learning_rate': 0.00013207750269106564,\n",
       "  'epoch': 2.798708288482239,\n",
       "  'step': 2600},\n",
       " {'eval_loss': 0.24782529473304749,\n",
       "  'eval_runtime': 62.8148,\n",
       "  'eval_samples_per_second': 2.261,\n",
       "  'eval_steps_per_second': 0.573,\n",
       "  'epoch': 2.798708288482239,\n",
       "  'step': 2600},\n",
       " {'loss': 0.172,\n",
       "  'grad_norm': 0.5804417133331299,\n",
       "  'learning_rate': 0.00012561894510226048,\n",
       "  'epoch': 2.9063509149623252,\n",
       "  'step': 2700},\n",
       " {'eval_loss': 0.2339341938495636,\n",
       "  'eval_runtime': 73.9737,\n",
       "  'eval_samples_per_second': 1.92,\n",
       "  'eval_steps_per_second': 0.487,\n",
       "  'epoch': 2.9063509149623252,\n",
       "  'step': 2700},\n",
       " {'loss': 0.1578,\n",
       "  'grad_norm': 0.7958263754844666,\n",
       "  'learning_rate': 0.00011916038751345532,\n",
       "  'epoch': 3.013993541442411,\n",
       "  'step': 2800},\n",
       " {'eval_loss': 0.23189832270145416,\n",
       "  'eval_runtime': 64.4249,\n",
       "  'eval_samples_per_second': 2.204,\n",
       "  'eval_steps_per_second': 0.559,\n",
       "  'epoch': 3.013993541442411,\n",
       "  'step': 2800},\n",
       " {'loss': 0.1344,\n",
       "  'grad_norm': 0.7088913321495056,\n",
       "  'learning_rate': 0.00011270182992465014,\n",
       "  'epoch': 3.1216361679224973,\n",
       "  'step': 2900},\n",
       " {'eval_loss': 0.20932748913764954,\n",
       "  'eval_runtime': 59.6909,\n",
       "  'eval_samples_per_second': 2.379,\n",
       "  'eval_steps_per_second': 0.603,\n",
       "  'epoch': 3.1216361679224973,\n",
       "  'step': 2900},\n",
       " {'loss': 0.1313,\n",
       "  'grad_norm': 1.398024320602417,\n",
       "  'learning_rate': 0.00010624327233584499,\n",
       "  'epoch': 3.2292787944025836,\n",
       "  'step': 3000},\n",
       " {'eval_loss': 0.20702151954174042,\n",
       "  'eval_runtime': 71.1696,\n",
       "  'eval_samples_per_second': 1.995,\n",
       "  'eval_steps_per_second': 0.506,\n",
       "  'epoch': 3.2292787944025836,\n",
       "  'step': 3000},\n",
       " {'loss': 0.1591,\n",
       "  'grad_norm': 0.4742352068424225,\n",
       "  'learning_rate': 9.978471474703983e-05,\n",
       "  'epoch': 3.3369214208826694,\n",
       "  'step': 3100},\n",
       " {'eval_loss': 0.20262329280376434,\n",
       "  'eval_runtime': 69.6213,\n",
       "  'eval_samples_per_second': 2.04,\n",
       "  'eval_steps_per_second': 0.517,\n",
       "  'epoch': 3.3369214208826694,\n",
       "  'step': 3100},\n",
       " {'loss': 0.1191,\n",
       "  'grad_norm': 0.45089900493621826,\n",
       "  'learning_rate': 9.332615715823465e-05,\n",
       "  'epoch': 3.4445640473627557,\n",
       "  'step': 3200},\n",
       " {'eval_loss': 0.1970006376504898,\n",
       "  'eval_runtime': 66.6605,\n",
       "  'eval_samples_per_second': 2.13,\n",
       "  'eval_steps_per_second': 0.54,\n",
       "  'epoch': 3.4445640473627557,\n",
       "  'step': 3200},\n",
       " {'loss': 0.1333,\n",
       "  'grad_norm': 0.990903913974762,\n",
       "  'learning_rate': 8.686759956942948e-05,\n",
       "  'epoch': 3.552206673842842,\n",
       "  'step': 3300},\n",
       " {'eval_loss': 0.18846863508224487,\n",
       "  'eval_runtime': 62.7014,\n",
       "  'eval_samples_per_second': 2.265,\n",
       "  'eval_steps_per_second': 0.574,\n",
       "  'epoch': 3.552206673842842,\n",
       "  'step': 3300},\n",
       " {'loss': 0.1395,\n",
       "  'grad_norm': 0.37987130880355835,\n",
       "  'learning_rate': 8.040904198062432e-05,\n",
       "  'epoch': 3.6598493003229278,\n",
       "  'step': 3400},\n",
       " {'eval_loss': 0.18134506046772003,\n",
       "  'eval_runtime': 59.0093,\n",
       "  'eval_samples_per_second': 2.406,\n",
       "  'eval_steps_per_second': 0.61,\n",
       "  'epoch': 3.6598493003229278,\n",
       "  'step': 3400},\n",
       " {'loss': 0.1223,\n",
       "  'grad_norm': 0.5670006275177002,\n",
       "  'learning_rate': 7.395048439181916e-05,\n",
       "  'epoch': 3.767491926803014,\n",
       "  'step': 3500},\n",
       " {'eval_loss': 0.17986665666103363,\n",
       "  'eval_runtime': 55.4916,\n",
       "  'eval_samples_per_second': 2.559,\n",
       "  'eval_steps_per_second': 0.649,\n",
       "  'epoch': 3.767491926803014,\n",
       "  'step': 3500},\n",
       " {'loss': 0.1462,\n",
       "  'grad_norm': 0.43387657403945923,\n",
       "  'learning_rate': 6.749192680301398e-05,\n",
       "  'epoch': 3.8751345532831003,\n",
       "  'step': 3600},\n",
       " {'eval_loss': 0.18029819428920746,\n",
       "  'eval_runtime': 51.7528,\n",
       "  'eval_samples_per_second': 2.744,\n",
       "  'eval_steps_per_second': 0.696,\n",
       "  'epoch': 3.8751345532831003,\n",
       "  'step': 3600},\n",
       " {'loss': 0.1265,\n",
       "  'grad_norm': 0.5330030918121338,\n",
       "  'learning_rate': 6.103336921420882e-05,\n",
       "  'epoch': 3.982777179763186,\n",
       "  'step': 3700},\n",
       " {'eval_loss': 0.1676575243473053,\n",
       "  'eval_runtime': 56.7868,\n",
       "  'eval_samples_per_second': 2.501,\n",
       "  'eval_steps_per_second': 0.634,\n",
       "  'epoch': 3.982777179763186,\n",
       "  'step': 3700},\n",
       " {'loss': 0.1121,\n",
       "  'grad_norm': 0.38995450735092163,\n",
       "  'learning_rate': 5.457481162540366e-05,\n",
       "  'epoch': 4.090419806243272,\n",
       "  'step': 3800},\n",
       " {'eval_loss': 0.15614382922649384,\n",
       "  'eval_runtime': 63.3897,\n",
       "  'eval_samples_per_second': 2.24,\n",
       "  'eval_steps_per_second': 0.568,\n",
       "  'epoch': 4.090419806243272,\n",
       "  'step': 3800},\n",
       " {'loss': 0.1135,\n",
       "  'grad_norm': 0.8713639974594116,\n",
       "  'learning_rate': 4.811625403659849e-05,\n",
       "  'epoch': 4.198062432723359,\n",
       "  'step': 3900},\n",
       " {'eval_loss': 0.15563558042049408,\n",
       "  'eval_runtime': 68.3743,\n",
       "  'eval_samples_per_second': 2.077,\n",
       "  'eval_steps_per_second': 0.527,\n",
       "  'epoch': 4.198062432723359,\n",
       "  'step': 3900},\n",
       " {'loss': 0.1001,\n",
       "  'grad_norm': 1.039821982383728,\n",
       "  'learning_rate': 4.165769644779332e-05,\n",
       "  'epoch': 4.3057050592034445,\n",
       "  'step': 4000},\n",
       " {'eval_loss': 0.1477048099040985,\n",
       "  'eval_runtime': 69.6525,\n",
       "  'eval_samples_per_second': 2.039,\n",
       "  'eval_steps_per_second': 0.517,\n",
       "  'epoch': 4.3057050592034445,\n",
       "  'step': 4000},\n",
       " {'loss': 0.0977,\n",
       "  'grad_norm': 1.1324372291564941,\n",
       "  'learning_rate': 3.519913885898816e-05,\n",
       "  'epoch': 4.41334768568353,\n",
       "  'step': 4100},\n",
       " {'eval_loss': 0.15007013082504272,\n",
       "  'eval_runtime': 65.2311,\n",
       "  'eval_samples_per_second': 2.177,\n",
       "  'eval_steps_per_second': 0.552,\n",
       "  'epoch': 4.41334768568353,\n",
       "  'step': 4100},\n",
       " {'loss': 0.1071,\n",
       "  'grad_norm': 0.5502436757087708,\n",
       "  'learning_rate': 2.874058127018299e-05,\n",
       "  'epoch': 4.520990312163617,\n",
       "  'step': 4200},\n",
       " {'eval_loss': 0.14595066010951996,\n",
       "  'eval_runtime': 71.7842,\n",
       "  'eval_samples_per_second': 1.978,\n",
       "  'eval_steps_per_second': 0.502,\n",
       "  'epoch': 4.520990312163617,\n",
       "  'step': 4200},\n",
       " {'loss': 0.0889,\n",
       "  'grad_norm': 0.28745922446250916,\n",
       "  'learning_rate': 2.2282023681377823e-05,\n",
       "  'epoch': 4.628632938643703,\n",
       "  'step': 4300},\n",
       " {'eval_loss': 0.14152459800243378,\n",
       "  'eval_runtime': 65.9759,\n",
       "  'eval_samples_per_second': 2.152,\n",
       "  'eval_steps_per_second': 0.546,\n",
       "  'epoch': 4.628632938643703,\n",
       "  'step': 4300},\n",
       " {'loss': 0.0991,\n",
       "  'grad_norm': 0.4818344712257385,\n",
       "  'learning_rate': 1.5823466092572657e-05,\n",
       "  'epoch': 4.736275565123789,\n",
       "  'step': 4400},\n",
       " {'eval_loss': 0.13864074647426605,\n",
       "  'eval_runtime': 57.2059,\n",
       "  'eval_samples_per_second': 2.482,\n",
       "  'eval_steps_per_second': 0.629,\n",
       "  'epoch': 4.736275565123789,\n",
       "  'step': 4400},\n",
       " {'loss': 0.1098,\n",
       "  'grad_norm': 0.8002377152442932,\n",
       "  'learning_rate': 9.364908503767491e-06,\n",
       "  'epoch': 4.843918191603875,\n",
       "  'step': 4500},\n",
       " {'eval_loss': 0.1351364552974701,\n",
       "  'eval_runtime': 80.4721,\n",
       "  'eval_samples_per_second': 1.765,\n",
       "  'eval_steps_per_second': 0.447,\n",
       "  'epoch': 4.843918191603875,\n",
       "  'step': 4500},\n",
       " {'loss': 0.1004,\n",
       "  'grad_norm': 1.3744999170303345,\n",
       "  'learning_rate': 2.906350914962325e-06,\n",
       "  'epoch': 4.951560818083961,\n",
       "  'step': 4600},\n",
       " {'eval_loss': 0.13297851383686066,\n",
       "  'eval_runtime': 67.7068,\n",
       "  'eval_samples_per_second': 2.097,\n",
       "  'eval_steps_per_second': 0.532,\n",
       "  'epoch': 4.951560818083961,\n",
       "  'step': 4600},\n",
       " {'train_runtime': 34326.9713,\n",
       "  'train_samples_per_second': 0.541,\n",
       "  'train_steps_per_second': 0.135,\n",
       "  'total_flos': 3178986008739840.0,\n",
       "  'train_loss': 0.2351704702182273,\n",
       "  'epoch': 5.0,\n",
       "  'step': 4645}]"
      ]
     },
     "execution_count": 7,
     "metadata": {},
     "output_type": "execute_result"
    }
   ],
   "source": [
    "trainer.state.log_history"
   ]
  },
  {
   "cell_type": "code",
   "execution_count": 8,
   "metadata": {},
   "outputs": [
    {
     "data": {
      "application/vnd.jupyter.widget-view+json": {
       "model_id": "6b8cce36e03344898b9ff5606eb68398",
       "version_major": 2,
       "version_minor": 0
      },
      "text/plain": [
       "  0%|          | 0/71 [00:00<?, ?it/s]"
      ]
     },
     "metadata": {},
     "output_type": "display_data"
    }
   ],
   "source": [
    "predictions = trainer.predict(dataset['validation'])"
   ]
  },
  {
   "cell_type": "code",
   "execution_count": null,
   "metadata": {},
   "outputs": [],
   "source": [
    "import numpy as np\n",
    "np.argmax(predictions.predictions, axis=-1)"
   ]
  },
  {
   "cell_type": "code",
   "execution_count": 12,
   "metadata": {},
   "outputs": [
    {
     "ename": "ValueError",
     "evalue": "Found input variables with inconsistent numbers of samples: [281, 2]",
     "output_type": "error",
     "traceback": [
      "\u001b[0;31m---------------------------------------------------------------------------\u001b[0m",
      "\u001b[0;31mValueError\u001b[0m                                Traceback (most recent call last)",
      "Cell \u001b[0;32mIn[12], line 1\u001b[0m\n\u001b[0;32m----> 1\u001b[0m \u001b[43mcompute_metrics\u001b[49m\u001b[43m(\u001b[49m\u001b[43mpredictions\u001b[49m\u001b[43m)\u001b[49m\n",
      "Cell \u001b[0;32mIn[11], line 8\u001b[0m, in \u001b[0;36mcompute_metrics\u001b[0;34m(pred)\u001b[0m\n\u001b[1;32m      5\u001b[0m references \u001b[38;5;241m=\u001b[39m pred\u001b[38;5;241m.\u001b[39mlabel_ids\n\u001b[1;32m      6\u001b[0m predictions \u001b[38;5;241m=\u001b[39m np\u001b[38;5;241m.\u001b[39margmax(logits, axis\u001b[38;5;241m=\u001b[39m\u001b[38;5;241m-\u001b[39m\u001b[38;5;241m1\u001b[39m)\n\u001b[0;32m----> 8\u001b[0m f1 \u001b[38;5;241m=\u001b[39m \u001b[43mf1_score\u001b[49m\u001b[43m(\u001b[49m\u001b[43mreferences\u001b[49m\u001b[43m,\u001b[49m\u001b[43m \u001b[49m\u001b[43mpredictions\u001b[49m\u001b[43m,\u001b[49m\u001b[43m \u001b[49m\u001b[43maverage\u001b[49m\u001b[38;5;241;43m=\u001b[39;49m\u001b[38;5;124;43m\"\u001b[39;49m\u001b[38;5;124;43mmacro\u001b[39;49m\u001b[38;5;124;43m\"\u001b[39;49m\u001b[43m)\u001b[49m\n\u001b[1;32m     10\u001b[0m \u001b[38;5;28;01mreturn\u001b[39;00m {\n\u001b[1;32m     11\u001b[0m     \u001b[38;5;124m\"\u001b[39m\u001b[38;5;124mf1\u001b[39m\u001b[38;5;124m\"\u001b[39m: f1\n\u001b[1;32m     12\u001b[0m }\n",
      "File \u001b[0;32m~/Desktop/TESIS/Code/ThesisModel/tesis-env/lib/python3.10/site-packages/sklearn/utils/_param_validation.py:213\u001b[0m, in \u001b[0;36mvalidate_params.<locals>.decorator.<locals>.wrapper\u001b[0;34m(*args, **kwargs)\u001b[0m\n\u001b[1;32m    207\u001b[0m \u001b[38;5;28;01mtry\u001b[39;00m:\n\u001b[1;32m    208\u001b[0m     \u001b[38;5;28;01mwith\u001b[39;00m config_context(\n\u001b[1;32m    209\u001b[0m         skip_parameter_validation\u001b[38;5;241m=\u001b[39m(\n\u001b[1;32m    210\u001b[0m             prefer_skip_nested_validation \u001b[38;5;129;01mor\u001b[39;00m global_skip_validation\n\u001b[1;32m    211\u001b[0m         )\n\u001b[1;32m    212\u001b[0m     ):\n\u001b[0;32m--> 213\u001b[0m         \u001b[38;5;28;01mreturn\u001b[39;00m \u001b[43mfunc\u001b[49m\u001b[43m(\u001b[49m\u001b[38;5;241;43m*\u001b[39;49m\u001b[43margs\u001b[49m\u001b[43m,\u001b[49m\u001b[43m \u001b[49m\u001b[38;5;241;43m*\u001b[39;49m\u001b[38;5;241;43m*\u001b[39;49m\u001b[43mkwargs\u001b[49m\u001b[43m)\u001b[49m\n\u001b[1;32m    214\u001b[0m \u001b[38;5;28;01mexcept\u001b[39;00m InvalidParameterError \u001b[38;5;28;01mas\u001b[39;00m e:\n\u001b[1;32m    215\u001b[0m     \u001b[38;5;66;03m# When the function is just a wrapper around an estimator, we allow\u001b[39;00m\n\u001b[1;32m    216\u001b[0m     \u001b[38;5;66;03m# the function to delegate validation to the estimator, but we replace\u001b[39;00m\n\u001b[1;32m    217\u001b[0m     \u001b[38;5;66;03m# the name of the estimator by the name of the function in the error\u001b[39;00m\n\u001b[1;32m    218\u001b[0m     \u001b[38;5;66;03m# message to avoid confusion.\u001b[39;00m\n\u001b[1;32m    219\u001b[0m     msg \u001b[38;5;241m=\u001b[39m re\u001b[38;5;241m.\u001b[39msub(\n\u001b[1;32m    220\u001b[0m         \u001b[38;5;124mr\u001b[39m\u001b[38;5;124m\"\u001b[39m\u001b[38;5;124mparameter of \u001b[39m\u001b[38;5;124m\\\u001b[39m\u001b[38;5;124mw+ must be\u001b[39m\u001b[38;5;124m\"\u001b[39m,\n\u001b[1;32m    221\u001b[0m         \u001b[38;5;124mf\u001b[39m\u001b[38;5;124m\"\u001b[39m\u001b[38;5;124mparameter of \u001b[39m\u001b[38;5;132;01m{\u001b[39;00mfunc\u001b[38;5;241m.\u001b[39m\u001b[38;5;18m__qualname__\u001b[39m\u001b[38;5;132;01m}\u001b[39;00m\u001b[38;5;124m must be\u001b[39m\u001b[38;5;124m\"\u001b[39m,\n\u001b[1;32m    222\u001b[0m         \u001b[38;5;28mstr\u001b[39m(e),\n\u001b[1;32m    223\u001b[0m     )\n",
      "File \u001b[0;32m~/Desktop/TESIS/Code/ThesisModel/tesis-env/lib/python3.10/site-packages/sklearn/metrics/_classification.py:1293\u001b[0m, in \u001b[0;36mf1_score\u001b[0;34m(y_true, y_pred, labels, pos_label, average, sample_weight, zero_division)\u001b[0m\n\u001b[1;32m   1113\u001b[0m \u001b[38;5;129m@validate_params\u001b[39m(\n\u001b[1;32m   1114\u001b[0m     {\n\u001b[1;32m   1115\u001b[0m         \u001b[38;5;124m\"\u001b[39m\u001b[38;5;124my_true\u001b[39m\u001b[38;5;124m\"\u001b[39m: [\u001b[38;5;124m\"\u001b[39m\u001b[38;5;124marray-like\u001b[39m\u001b[38;5;124m\"\u001b[39m, \u001b[38;5;124m\"\u001b[39m\u001b[38;5;124msparse matrix\u001b[39m\u001b[38;5;124m\"\u001b[39m],\n\u001b[0;32m   (...)\u001b[0m\n\u001b[1;32m   1140\u001b[0m     zero_division\u001b[38;5;241m=\u001b[39m\u001b[38;5;124m\"\u001b[39m\u001b[38;5;124mwarn\u001b[39m\u001b[38;5;124m\"\u001b[39m,\n\u001b[1;32m   1141\u001b[0m ):\n\u001b[1;32m   1142\u001b[0m \u001b[38;5;250m    \u001b[39m\u001b[38;5;124;03m\"\"\"Compute the F1 score, also known as balanced F-score or F-measure.\u001b[39;00m\n\u001b[1;32m   1143\u001b[0m \n\u001b[1;32m   1144\u001b[0m \u001b[38;5;124;03m    The F1 score can be interpreted as a harmonic mean of the precision and\u001b[39;00m\n\u001b[0;32m   (...)\u001b[0m\n\u001b[1;32m   1291\u001b[0m \u001b[38;5;124;03m    array([0.66666667, 1.        , 0.66666667])\u001b[39;00m\n\u001b[1;32m   1292\u001b[0m \u001b[38;5;124;03m    \"\"\"\u001b[39;00m\n\u001b[0;32m-> 1293\u001b[0m     \u001b[38;5;28;01mreturn\u001b[39;00m \u001b[43mfbeta_score\u001b[49m\u001b[43m(\u001b[49m\n\u001b[1;32m   1294\u001b[0m \u001b[43m        \u001b[49m\u001b[43my_true\u001b[49m\u001b[43m,\u001b[49m\n\u001b[1;32m   1295\u001b[0m \u001b[43m        \u001b[49m\u001b[43my_pred\u001b[49m\u001b[43m,\u001b[49m\n\u001b[1;32m   1296\u001b[0m \u001b[43m        \u001b[49m\u001b[43mbeta\u001b[49m\u001b[38;5;241;43m=\u001b[39;49m\u001b[38;5;241;43m1\u001b[39;49m\u001b[43m,\u001b[49m\n\u001b[1;32m   1297\u001b[0m \u001b[43m        \u001b[49m\u001b[43mlabels\u001b[49m\u001b[38;5;241;43m=\u001b[39;49m\u001b[43mlabels\u001b[49m\u001b[43m,\u001b[49m\n\u001b[1;32m   1298\u001b[0m \u001b[43m        \u001b[49m\u001b[43mpos_label\u001b[49m\u001b[38;5;241;43m=\u001b[39;49m\u001b[43mpos_label\u001b[49m\u001b[43m,\u001b[49m\n\u001b[1;32m   1299\u001b[0m \u001b[43m        \u001b[49m\u001b[43maverage\u001b[49m\u001b[38;5;241;43m=\u001b[39;49m\u001b[43maverage\u001b[49m\u001b[43m,\u001b[49m\n\u001b[1;32m   1300\u001b[0m \u001b[43m        \u001b[49m\u001b[43msample_weight\u001b[49m\u001b[38;5;241;43m=\u001b[39;49m\u001b[43msample_weight\u001b[49m\u001b[43m,\u001b[49m\n\u001b[1;32m   1301\u001b[0m \u001b[43m        \u001b[49m\u001b[43mzero_division\u001b[49m\u001b[38;5;241;43m=\u001b[39;49m\u001b[43mzero_division\u001b[49m\u001b[43m,\u001b[49m\n\u001b[1;32m   1302\u001b[0m \u001b[43m    \u001b[49m\u001b[43m)\u001b[49m\n",
      "File \u001b[0;32m~/Desktop/TESIS/Code/ThesisModel/tesis-env/lib/python3.10/site-packages/sklearn/utils/_param_validation.py:186\u001b[0m, in \u001b[0;36mvalidate_params.<locals>.decorator.<locals>.wrapper\u001b[0;34m(*args, **kwargs)\u001b[0m\n\u001b[1;32m    184\u001b[0m global_skip_validation \u001b[38;5;241m=\u001b[39m get_config()[\u001b[38;5;124m\"\u001b[39m\u001b[38;5;124mskip_parameter_validation\u001b[39m\u001b[38;5;124m\"\u001b[39m]\n\u001b[1;32m    185\u001b[0m \u001b[38;5;28;01mif\u001b[39;00m global_skip_validation:\n\u001b[0;32m--> 186\u001b[0m     \u001b[38;5;28;01mreturn\u001b[39;00m \u001b[43mfunc\u001b[49m\u001b[43m(\u001b[49m\u001b[38;5;241;43m*\u001b[39;49m\u001b[43margs\u001b[49m\u001b[43m,\u001b[49m\u001b[43m \u001b[49m\u001b[38;5;241;43m*\u001b[39;49m\u001b[38;5;241;43m*\u001b[39;49m\u001b[43mkwargs\u001b[49m\u001b[43m)\u001b[49m\n\u001b[1;32m    188\u001b[0m func_sig \u001b[38;5;241m=\u001b[39m signature(func)\n\u001b[1;32m    190\u001b[0m \u001b[38;5;66;03m# Map *args/**kwargs to the function signature\u001b[39;00m\n",
      "File \u001b[0;32m~/Desktop/TESIS/Code/ThesisModel/tesis-env/lib/python3.10/site-packages/sklearn/metrics/_classification.py:1485\u001b[0m, in \u001b[0;36mfbeta_score\u001b[0;34m(y_true, y_pred, beta, labels, pos_label, average, sample_weight, zero_division)\u001b[0m\n\u001b[1;32m   1305\u001b[0m \u001b[38;5;129m@validate_params\u001b[39m(\n\u001b[1;32m   1306\u001b[0m     {\n\u001b[1;32m   1307\u001b[0m         \u001b[38;5;124m\"\u001b[39m\u001b[38;5;124my_true\u001b[39m\u001b[38;5;124m\"\u001b[39m: [\u001b[38;5;124m\"\u001b[39m\u001b[38;5;124marray-like\u001b[39m\u001b[38;5;124m\"\u001b[39m, \u001b[38;5;124m\"\u001b[39m\u001b[38;5;124msparse matrix\u001b[39m\u001b[38;5;124m\"\u001b[39m],\n\u001b[0;32m   (...)\u001b[0m\n\u001b[1;32m   1334\u001b[0m     zero_division\u001b[38;5;241m=\u001b[39m\u001b[38;5;124m\"\u001b[39m\u001b[38;5;124mwarn\u001b[39m\u001b[38;5;124m\"\u001b[39m,\n\u001b[1;32m   1335\u001b[0m ):\n\u001b[1;32m   1336\u001b[0m \u001b[38;5;250m    \u001b[39m\u001b[38;5;124;03m\"\"\"Compute the F-beta score.\u001b[39;00m\n\u001b[1;32m   1337\u001b[0m \n\u001b[1;32m   1338\u001b[0m \u001b[38;5;124;03m    The F-beta score is the weighted harmonic mean of precision and recall,\u001b[39;00m\n\u001b[0;32m   (...)\u001b[0m\n\u001b[1;32m   1482\u001b[0m \u001b[38;5;124;03m    0.12...\u001b[39;00m\n\u001b[1;32m   1483\u001b[0m \u001b[38;5;124;03m    \"\"\"\u001b[39;00m\n\u001b[0;32m-> 1485\u001b[0m     _, _, f, _ \u001b[38;5;241m=\u001b[39m \u001b[43mprecision_recall_fscore_support\u001b[49m\u001b[43m(\u001b[49m\n\u001b[1;32m   1486\u001b[0m \u001b[43m        \u001b[49m\u001b[43my_true\u001b[49m\u001b[43m,\u001b[49m\n\u001b[1;32m   1487\u001b[0m \u001b[43m        \u001b[49m\u001b[43my_pred\u001b[49m\u001b[43m,\u001b[49m\n\u001b[1;32m   1488\u001b[0m \u001b[43m        \u001b[49m\u001b[43mbeta\u001b[49m\u001b[38;5;241;43m=\u001b[39;49m\u001b[43mbeta\u001b[49m\u001b[43m,\u001b[49m\n\u001b[1;32m   1489\u001b[0m \u001b[43m        \u001b[49m\u001b[43mlabels\u001b[49m\u001b[38;5;241;43m=\u001b[39;49m\u001b[43mlabels\u001b[49m\u001b[43m,\u001b[49m\n\u001b[1;32m   1490\u001b[0m \u001b[43m        \u001b[49m\u001b[43mpos_label\u001b[49m\u001b[38;5;241;43m=\u001b[39;49m\u001b[43mpos_label\u001b[49m\u001b[43m,\u001b[49m\n\u001b[1;32m   1491\u001b[0m \u001b[43m        \u001b[49m\u001b[43maverage\u001b[49m\u001b[38;5;241;43m=\u001b[39;49m\u001b[43maverage\u001b[49m\u001b[43m,\u001b[49m\n\u001b[1;32m   1492\u001b[0m \u001b[43m        \u001b[49m\u001b[43mwarn_for\u001b[49m\u001b[38;5;241;43m=\u001b[39;49m\u001b[43m(\u001b[49m\u001b[38;5;124;43m\"\u001b[39;49m\u001b[38;5;124;43mf-score\u001b[39;49m\u001b[38;5;124;43m\"\u001b[39;49m\u001b[43m,\u001b[49m\u001b[43m)\u001b[49m\u001b[43m,\u001b[49m\n\u001b[1;32m   1493\u001b[0m \u001b[43m        \u001b[49m\u001b[43msample_weight\u001b[49m\u001b[38;5;241;43m=\u001b[39;49m\u001b[43msample_weight\u001b[49m\u001b[43m,\u001b[49m\n\u001b[1;32m   1494\u001b[0m \u001b[43m        \u001b[49m\u001b[43mzero_division\u001b[49m\u001b[38;5;241;43m=\u001b[39;49m\u001b[43mzero_division\u001b[49m\u001b[43m,\u001b[49m\n\u001b[1;32m   1495\u001b[0m \u001b[43m    \u001b[49m\u001b[43m)\u001b[49m\n\u001b[1;32m   1496\u001b[0m     \u001b[38;5;28;01mreturn\u001b[39;00m f\n",
      "File \u001b[0;32m~/Desktop/TESIS/Code/ThesisModel/tesis-env/lib/python3.10/site-packages/sklearn/utils/_param_validation.py:186\u001b[0m, in \u001b[0;36mvalidate_params.<locals>.decorator.<locals>.wrapper\u001b[0;34m(*args, **kwargs)\u001b[0m\n\u001b[1;32m    184\u001b[0m global_skip_validation \u001b[38;5;241m=\u001b[39m get_config()[\u001b[38;5;124m\"\u001b[39m\u001b[38;5;124mskip_parameter_validation\u001b[39m\u001b[38;5;124m\"\u001b[39m]\n\u001b[1;32m    185\u001b[0m \u001b[38;5;28;01mif\u001b[39;00m global_skip_validation:\n\u001b[0;32m--> 186\u001b[0m     \u001b[38;5;28;01mreturn\u001b[39;00m \u001b[43mfunc\u001b[49m\u001b[43m(\u001b[49m\u001b[38;5;241;43m*\u001b[39;49m\u001b[43margs\u001b[49m\u001b[43m,\u001b[49m\u001b[43m \u001b[49m\u001b[38;5;241;43m*\u001b[39;49m\u001b[38;5;241;43m*\u001b[39;49m\u001b[43mkwargs\u001b[49m\u001b[43m)\u001b[49m\n\u001b[1;32m    188\u001b[0m func_sig \u001b[38;5;241m=\u001b[39m signature(func)\n\u001b[1;32m    190\u001b[0m \u001b[38;5;66;03m# Map *args/**kwargs to the function signature\u001b[39;00m\n",
      "File \u001b[0;32m~/Desktop/TESIS/Code/ThesisModel/tesis-env/lib/python3.10/site-packages/sklearn/metrics/_classification.py:1789\u001b[0m, in \u001b[0;36mprecision_recall_fscore_support\u001b[0;34m(y_true, y_pred, beta, labels, pos_label, average, warn_for, sample_weight, zero_division)\u001b[0m\n\u001b[1;32m   1626\u001b[0m \u001b[38;5;250m\u001b[39m\u001b[38;5;124;03m\"\"\"Compute precision, recall, F-measure and support for each class.\u001b[39;00m\n\u001b[1;32m   1627\u001b[0m \n\u001b[1;32m   1628\u001b[0m \u001b[38;5;124;03mThe precision is the ratio ``tp / (tp + fp)`` where ``tp`` is the number of\u001b[39;00m\n\u001b[0;32m   (...)\u001b[0m\n\u001b[1;32m   1786\u001b[0m \u001b[38;5;124;03m array([2, 2, 2]))\u001b[39;00m\n\u001b[1;32m   1787\u001b[0m \u001b[38;5;124;03m\"\"\"\u001b[39;00m\n\u001b[1;32m   1788\u001b[0m _check_zero_division(zero_division)\n\u001b[0;32m-> 1789\u001b[0m labels \u001b[38;5;241m=\u001b[39m \u001b[43m_check_set_wise_labels\u001b[49m\u001b[43m(\u001b[49m\u001b[43my_true\u001b[49m\u001b[43m,\u001b[49m\u001b[43m \u001b[49m\u001b[43my_pred\u001b[49m\u001b[43m,\u001b[49m\u001b[43m \u001b[49m\u001b[43maverage\u001b[49m\u001b[43m,\u001b[49m\u001b[43m \u001b[49m\u001b[43mlabels\u001b[49m\u001b[43m,\u001b[49m\u001b[43m \u001b[49m\u001b[43mpos_label\u001b[49m\u001b[43m)\u001b[49m\n\u001b[1;32m   1791\u001b[0m \u001b[38;5;66;03m# Calculate tp_sum, pred_sum, true_sum ###\u001b[39;00m\n\u001b[1;32m   1792\u001b[0m samplewise \u001b[38;5;241m=\u001b[39m average \u001b[38;5;241m==\u001b[39m \u001b[38;5;124m\"\u001b[39m\u001b[38;5;124msamples\u001b[39m\u001b[38;5;124m\"\u001b[39m\n",
      "File \u001b[0;32m~/Desktop/TESIS/Code/ThesisModel/tesis-env/lib/python3.10/site-packages/sklearn/metrics/_classification.py:1561\u001b[0m, in \u001b[0;36m_check_set_wise_labels\u001b[0;34m(y_true, y_pred, average, labels, pos_label)\u001b[0m\n\u001b[1;32m   1558\u001b[0m \u001b[38;5;28;01mif\u001b[39;00m average \u001b[38;5;129;01mnot\u001b[39;00m \u001b[38;5;129;01min\u001b[39;00m average_options \u001b[38;5;129;01mand\u001b[39;00m average \u001b[38;5;241m!=\u001b[39m \u001b[38;5;124m\"\u001b[39m\u001b[38;5;124mbinary\u001b[39m\u001b[38;5;124m\"\u001b[39m:\n\u001b[1;32m   1559\u001b[0m     \u001b[38;5;28;01mraise\u001b[39;00m \u001b[38;5;167;01mValueError\u001b[39;00m(\u001b[38;5;124m\"\u001b[39m\u001b[38;5;124maverage has to be one of \u001b[39m\u001b[38;5;124m\"\u001b[39m \u001b[38;5;241m+\u001b[39m \u001b[38;5;28mstr\u001b[39m(average_options))\n\u001b[0;32m-> 1561\u001b[0m y_type, y_true, y_pred \u001b[38;5;241m=\u001b[39m \u001b[43m_check_targets\u001b[49m\u001b[43m(\u001b[49m\u001b[43my_true\u001b[49m\u001b[43m,\u001b[49m\u001b[43m \u001b[49m\u001b[43my_pred\u001b[49m\u001b[43m)\u001b[49m\n\u001b[1;32m   1562\u001b[0m \u001b[38;5;66;03m# Convert to Python primitive type to avoid NumPy type / Python str\u001b[39;00m\n\u001b[1;32m   1563\u001b[0m \u001b[38;5;66;03m# comparison. See https://github.com/numpy/numpy/issues/6784\u001b[39;00m\n\u001b[1;32m   1564\u001b[0m present_labels \u001b[38;5;241m=\u001b[39m unique_labels(y_true, y_pred)\u001b[38;5;241m.\u001b[39mtolist()\n",
      "File \u001b[0;32m~/Desktop/TESIS/Code/ThesisModel/tesis-env/lib/python3.10/site-packages/sklearn/metrics/_classification.py:103\u001b[0m, in \u001b[0;36m_check_targets\u001b[0;34m(y_true, y_pred)\u001b[0m\n\u001b[1;32m     76\u001b[0m \u001b[38;5;250m\u001b[39m\u001b[38;5;124;03m\"\"\"Check that y_true and y_pred belong to the same classification task.\u001b[39;00m\n\u001b[1;32m     77\u001b[0m \n\u001b[1;32m     78\u001b[0m \u001b[38;5;124;03mThis converts multiclass or binary types to a common shape, and raises a\u001b[39;00m\n\u001b[0;32m   (...)\u001b[0m\n\u001b[1;32m    100\u001b[0m \u001b[38;5;124;03my_pred : array or indicator matrix\u001b[39;00m\n\u001b[1;32m    101\u001b[0m \u001b[38;5;124;03m\"\"\"\u001b[39;00m\n\u001b[1;32m    102\u001b[0m xp, _ \u001b[38;5;241m=\u001b[39m get_namespace(y_true, y_pred)\n\u001b[0;32m--> 103\u001b[0m \u001b[43mcheck_consistent_length\u001b[49m\u001b[43m(\u001b[49m\u001b[43my_true\u001b[49m\u001b[43m,\u001b[49m\u001b[43m \u001b[49m\u001b[43my_pred\u001b[49m\u001b[43m)\u001b[49m\n\u001b[1;32m    104\u001b[0m type_true \u001b[38;5;241m=\u001b[39m type_of_target(y_true, input_name\u001b[38;5;241m=\u001b[39m\u001b[38;5;124m\"\u001b[39m\u001b[38;5;124my_true\u001b[39m\u001b[38;5;124m\"\u001b[39m)\n\u001b[1;32m    105\u001b[0m type_pred \u001b[38;5;241m=\u001b[39m type_of_target(y_pred, input_name\u001b[38;5;241m=\u001b[39m\u001b[38;5;124m\"\u001b[39m\u001b[38;5;124my_pred\u001b[39m\u001b[38;5;124m\"\u001b[39m)\n",
      "File \u001b[0;32m~/Desktop/TESIS/Code/ThesisModel/tesis-env/lib/python3.10/site-packages/sklearn/utils/validation.py:457\u001b[0m, in \u001b[0;36mcheck_consistent_length\u001b[0;34m(*arrays)\u001b[0m\n\u001b[1;32m    455\u001b[0m uniques \u001b[38;5;241m=\u001b[39m np\u001b[38;5;241m.\u001b[39munique(lengths)\n\u001b[1;32m    456\u001b[0m \u001b[38;5;28;01mif\u001b[39;00m \u001b[38;5;28mlen\u001b[39m(uniques) \u001b[38;5;241m>\u001b[39m \u001b[38;5;241m1\u001b[39m:\n\u001b[0;32m--> 457\u001b[0m     \u001b[38;5;28;01mraise\u001b[39;00m \u001b[38;5;167;01mValueError\u001b[39;00m(\n\u001b[1;32m    458\u001b[0m         \u001b[38;5;124m\"\u001b[39m\u001b[38;5;124mFound input variables with inconsistent numbers of samples: \u001b[39m\u001b[38;5;132;01m%r\u001b[39;00m\u001b[38;5;124m\"\u001b[39m\n\u001b[1;32m    459\u001b[0m         \u001b[38;5;241m%\u001b[39m [\u001b[38;5;28mint\u001b[39m(l) \u001b[38;5;28;01mfor\u001b[39;00m l \u001b[38;5;129;01min\u001b[39;00m lengths]\n\u001b[1;32m    460\u001b[0m     )\n",
      "\u001b[0;31mValueError\u001b[0m: Found input variables with inconsistent numbers of samples: [281, 2]"
     ]
    }
   ],
   "source": [
    "compute_metrics(predictions)"
   ]
  },
  {
   "cell_type": "code",
   "execution_count": null,
   "metadata": {},
   "outputs": [],
   "source": [
    "trainer.log_metrics(\"test\", results)"
   ]
  }
 ],
 "metadata": {
  "kernelspec": {
   "display_name": "tesis-env",
   "language": "python",
   "name": "python3"
  },
  "language_info": {
   "codemirror_mode": {
    "name": "ipython",
    "version": 3
   },
   "file_extension": ".py",
   "mimetype": "text/x-python",
   "name": "python",
   "nbconvert_exporter": "python",
   "pygments_lexer": "ipython3",
   "version": "3.10.12"
  }
 },
 "nbformat": 4,
 "nbformat_minor": 2
}
